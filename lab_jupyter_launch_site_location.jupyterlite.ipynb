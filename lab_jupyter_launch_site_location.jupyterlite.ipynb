{
  "metadata": {
    "kernelspec": {
      "name": "python",
      "display_name": "Python (Pyodide)",
      "language": "python"
    },
    "language_info": {
      "codemirror_mode": {
        "name": "python",
        "version": 3
      },
      "file_extension": ".py",
      "mimetype": "text/x-python",
      "name": "python",
      "nbconvert_exporter": "python",
      "pygments_lexer": "ipython3",
      "version": "3.8"
    }
  },
  "nbformat_minor": 4,
  "nbformat": 4,
  "cells": [
    {
      "cell_type": "markdown",
      "source": "<p style=\"text-align:center\">\n    <a href=\"https://skills.network/?utm_medium=Exinfluencer&utm_source=Exinfluencer&utm_content=000026UJ&utm_term=10006555&utm_id=NA-SkillsNetwork-Channel-SkillsNetworkCoursesIBMDS0321ENSkillsNetwork26802033-2022-01-01\" target=\"_blank\">\n    <img src=\"https://cf-courses-data.s3.us.cloud-object-storage.appdomain.cloud/assets/logos/SN_web_lightmode.png\" width=\"200\" alt=\"Skills Network Logo\"  />\n    </a>\n</p>\n",
      "metadata": {}
    },
    {
      "cell_type": "markdown",
      "source": "# **Launch Sites Locations Analysis with Folium**\n",
      "metadata": {}
    },
    {
      "cell_type": "markdown",
      "source": "Estimated time needed: **40** minutes\n",
      "metadata": {}
    },
    {
      "cell_type": "markdown",
      "source": "The launch success rate may depend on many factors such as payload mass, orbit type, and so on. It may also depend on the location and proximities of a launch site, i.e., the initial position of rocket trajectories. Finding an optimal location for building a launch site certainly involves many factors and hopefully we could discover some of the factors by analyzing the existing launch site locations.\n",
      "metadata": {}
    },
    {
      "cell_type": "markdown",
      "source": "In the previous exploratory data analysis labs, you have visualized the SpaceX launch dataset using `matplotlib` and `seaborn` and discovered some preliminary correlations between the launch site and success rates. In this lab, you will be performing more interactive visual analytics using `Folium`.\n",
      "metadata": {}
    },
    {
      "cell_type": "markdown",
      "source": "## Objectives\n",
      "metadata": {}
    },
    {
      "cell_type": "markdown",
      "source": "This lab contains the following tasks:\n\n*   **TASK 1:** Mark all launch sites on a map\n*   **TASK 2:** Mark the success/failed launches for each site on the map\n*   **TASK 3:** Calculate the distances between a launch site to its proximities\n\nAfter completed the above tasks, you should be able to find some geographical patterns about launch sites.\n",
      "metadata": {}
    },
    {
      "cell_type": "markdown",
      "source": "Let's first import required Python packages for this lab:\n",
      "metadata": {}
    },
    {
      "cell_type": "code",
      "source": "import piplite\nawait piplite.install(['folium'])\nawait piplite.install(['pandas'])",
      "metadata": {
        "trusted": true
      },
      "outputs": [],
      "execution_count": 2
    },
    {
      "cell_type": "code",
      "source": "import folium\nimport pandas as pd",
      "metadata": {
        "trusted": true
      },
      "outputs": [],
      "execution_count": 3
    },
    {
      "cell_type": "code",
      "source": "# Import folium MarkerCluster plugin\nfrom folium.plugins import MarkerCluster\n# Import folium MousePosition plugin\nfrom folium.plugins import MousePosition\n# Import folium DivIcon plugin\nfrom folium.features import DivIcon",
      "metadata": {
        "trusted": true
      },
      "outputs": [],
      "execution_count": 4
    },
    {
      "cell_type": "markdown",
      "source": "If you need to refresh your memory about folium, you may download and refer to this previous folium lab:\n",
      "metadata": {}
    },
    {
      "cell_type": "markdown",
      "source": "[Generating Maps with Python](https://cf-courses-data.s3.us.cloud-object-storage.appdomain.cloud/IBM-DS0321EN-SkillsNetwork/labs/module\\_3/DV0101EN-3-5-1-Generating-Maps-in-Python-py-v2.0.ipynb)\n",
      "metadata": {}
    },
    {
      "cell_type": "code",
      "source": "## Task 1: Mark all launch sites on a map\n",
      "metadata": {
        "trusted": true
      },
      "outputs": [],
      "execution_count": 5
    },
    {
      "cell_type": "markdown",
      "source": "First, let's try to add each site's location on a map using site's latitude and longitude coordinates\n",
      "metadata": {}
    },
    {
      "cell_type": "markdown",
      "source": "The following dataset with the name `spacex_launch_geo.csv` is an augmented dataset with latitude and longitude added for each site.\n",
      "metadata": {}
    },
    {
      "cell_type": "code",
      "source": "# Download and read the `spacex_launch_geo.csv`\nfrom js import fetch\nimport io\n\nURL = 'https://cf-courses-data.s3.us.cloud-object-storage.appdomain.cloud/IBM-DS0321EN-SkillsNetwork/datasets/spacex_launch_geo.csv'\nresp = await fetch(URL)\nspacex_csv_file = io.BytesIO((await resp.arrayBuffer()).to_py())\nspacex_df=pd.read_csv(spacex_csv_file)",
      "metadata": {
        "trusted": true
      },
      "outputs": [],
      "execution_count": 6
    },
    {
      "cell_type": "markdown",
      "source": "Now, you can take a look at what are the coordinates for each site.\n",
      "metadata": {}
    },
    {
      "cell_type": "code",
      "source": "# Select relevant sub-columns: `Launch Site`, `Lat(Latitude)`, `Long(Longitude)`, `class`\nspacex_df = spacex_df[['Launch Site', 'Lat', 'Long', 'class']]\nlaunch_sites_df = spacex_df.groupby(['Launch Site'], as_index=False).first()\nlaunch_sites_df = launch_sites_df[['Launch Site', 'Lat', 'Long']]\nlaunch_sites_df",
      "metadata": {
        "trusted": true
      },
      "outputs": [
        {
          "execution_count": 7,
          "output_type": "execute_result",
          "data": {
            "text/plain": "    Launch Site        Lat        Long\n0   CCAFS LC-40  28.562302  -80.577356\n1  CCAFS SLC-40  28.563197  -80.576820\n2    KSC LC-39A  28.573255  -80.646895\n3   VAFB SLC-4E  34.632834 -120.610745",
            "text/html": "<div>\n<style scoped>\n    .dataframe tbody tr th:only-of-type {\n        vertical-align: middle;\n    }\n\n    .dataframe tbody tr th {\n        vertical-align: top;\n    }\n\n    .dataframe thead th {\n        text-align: right;\n    }\n</style>\n<table border=\"1\" class=\"dataframe\">\n  <thead>\n    <tr style=\"text-align: right;\">\n      <th></th>\n      <th>Launch Site</th>\n      <th>Lat</th>\n      <th>Long</th>\n    </tr>\n  </thead>\n  <tbody>\n    <tr>\n      <th>0</th>\n      <td>CCAFS LC-40</td>\n      <td>28.562302</td>\n      <td>-80.577356</td>\n    </tr>\n    <tr>\n      <th>1</th>\n      <td>CCAFS SLC-40</td>\n      <td>28.563197</td>\n      <td>-80.576820</td>\n    </tr>\n    <tr>\n      <th>2</th>\n      <td>KSC LC-39A</td>\n      <td>28.573255</td>\n      <td>-80.646895</td>\n    </tr>\n    <tr>\n      <th>3</th>\n      <td>VAFB SLC-4E</td>\n      <td>34.632834</td>\n      <td>-120.610745</td>\n    </tr>\n  </tbody>\n</table>\n</div>"
          },
          "metadata": {}
        }
      ],
      "execution_count": 7
    },
    {
      "cell_type": "markdown",
      "source": "Above coordinates are just plain numbers that can not give you any intuitive insights about where are those launch sites. If you are very good at geography, you can interpret those numbers directly in your mind. If not, that's fine too. Let's visualize those locations by pinning them on a map.\n",
      "metadata": {}
    },
    {
      "cell_type": "markdown",
      "source": "We first need to create a folium `Map` object, with an initial center location to be NASA Johnson Space Center at Houston, Texas.\n",
      "metadata": {}
    },
    {
      "cell_type": "code",
      "source": "# Start location is NASA Johnson Space Center\nnasa_coordinate = [29.559684888503615, -95.0830971930759]\nsite_map = folium.Map(location=nasa_coordinate, zoom_start=10)",
      "metadata": {
        "trusted": true
      },
      "outputs": [],
      "execution_count": 8
    },
    {
      "cell_type": "markdown",
      "source": "We could use `folium.Circle` to add a highlighted circle area with a text label on a specific coordinate. For example,\n",
      "metadata": {}
    },
    {
      "cell_type": "code",
      "source": "# Create a blue circle at NASA Johnson Space Center's coordinate with a popup label showing its name\ncircle = folium.Circle(nasa_coordinate, radius=1000, color='#d35400', fill=True).add_child(folium.Popup('NASA Johnson Space Center'))\n# Create a blue circle at NASA Johnson Space Center's coordinate with a icon showing its name\nmarker = folium.map.Marker(\n    nasa_coordinate,\n    # Create an icon as a text label\n    icon=DivIcon(\n        icon_size=(20,20),\n        icon_anchor=(0,0),\n        html='<div style=\"font-size: 12; color:#d35400;\"><b>%s</b></div>' % 'NASA JSC',\n        )\n    )\nsite_map.add_child(circle)\nsite_map.add_child(marker)",
      "metadata": {
        "trusted": true
      },
      "outputs": [
        {
          "execution_count": 9,
          "output_type": "execute_result",
          "data": {
            "text/plain": "<folium.folium.Map at 0x2920a60>",
            "text/html": "<div style=\"width:100%;\"><div style=\"position:relative;width:100%;height:0;padding-bottom:60%;\"><span style=\"color:#565656\">Make this Notebook Trusted to load map: File -> Trust Notebook</span><iframe srcdoc=\"&lt;!DOCTYPE html&gt;\n&lt;html&gt;\n&lt;head&gt;\n    \n    &lt;meta http-equiv=&quot;content-type&quot; content=&quot;text/html; charset=UTF-8&quot; /&gt;\n    \n        &lt;script&gt;\n            L_NO_TOUCH = false;\n            L_DISABLE_3D = false;\n        &lt;/script&gt;\n    \n    &lt;style&gt;html, body {width: 100%;height: 100%;margin: 0;padding: 0;}&lt;/style&gt;\n    &lt;style&gt;#map {position:absolute;top:0;bottom:0;right:0;left:0;}&lt;/style&gt;\n    &lt;script src=&quot;https://cdn.jsdelivr.net/npm/leaflet@1.9.3/dist/leaflet.js&quot;&gt;&lt;/script&gt;\n    &lt;script src=&quot;https://code.jquery.com/jquery-3.7.1.min.js&quot;&gt;&lt;/script&gt;\n    &lt;script src=&quot;https://cdn.jsdelivr.net/npm/bootstrap@5.2.2/dist/js/bootstrap.bundle.min.js&quot;&gt;&lt;/script&gt;\n    &lt;script src=&quot;https://cdnjs.cloudflare.com/ajax/libs/Leaflet.awesome-markers/2.0.2/leaflet.awesome-markers.js&quot;&gt;&lt;/script&gt;\n    &lt;link rel=&quot;stylesheet&quot; href=&quot;https://cdn.jsdelivr.net/npm/leaflet@1.9.3/dist/leaflet.css&quot;/&gt;\n    &lt;link rel=&quot;stylesheet&quot; href=&quot;https://cdn.jsdelivr.net/npm/bootstrap@5.2.2/dist/css/bootstrap.min.css&quot;/&gt;\n    &lt;link rel=&quot;stylesheet&quot; href=&quot;https://netdna.bootstrapcdn.com/bootstrap/3.0.0/css/bootstrap.min.css&quot;/&gt;\n    &lt;link rel=&quot;stylesheet&quot; href=&quot;https://cdn.jsdelivr.net/npm/@fortawesome/fontawesome-free@6.2.0/css/all.min.css&quot;/&gt;\n    &lt;link rel=&quot;stylesheet&quot; href=&quot;https://cdnjs.cloudflare.com/ajax/libs/Leaflet.awesome-markers/2.0.2/leaflet.awesome-markers.css&quot;/&gt;\n    &lt;link rel=&quot;stylesheet&quot; href=&quot;https://cdn.jsdelivr.net/gh/python-visualization/folium/folium/templates/leaflet.awesome.rotate.min.css&quot;/&gt;\n    \n            &lt;meta name=&quot;viewport&quot; content=&quot;width=device-width,\n                initial-scale=1.0, maximum-scale=1.0, user-scalable=no&quot; /&gt;\n            &lt;style&gt;\n                #map_eed41417bd42212d71d14c8db8d4a120 {\n                    position: relative;\n                    width: 100.0%;\n                    height: 100.0%;\n                    left: 0.0%;\n                    top: 0.0%;\n                }\n                .leaflet-container { font-size: 1rem; }\n            &lt;/style&gt;\n        \n&lt;/head&gt;\n&lt;body&gt;\n    \n    \n            &lt;div class=&quot;folium-map&quot; id=&quot;map_eed41417bd42212d71d14c8db8d4a120&quot; &gt;&lt;/div&gt;\n        \n&lt;/body&gt;\n&lt;script&gt;\n    \n    \n            var map_eed41417bd42212d71d14c8db8d4a120 = L.map(\n                &quot;map_eed41417bd42212d71d14c8db8d4a120&quot;,\n                {\n                    center: [29.559684888503615, -95.0830971930759],\n                    crs: L.CRS.EPSG3857,\n                    zoom: 10,\n                    zoomControl: true,\n                    preferCanvas: false,\n                }\n            );\n\n            \n\n        \n    \n            var tile_layer_f6ae3f1923f539942bfed7c9fe913b3e = L.tileLayer(\n                &quot;https://tile.openstreetmap.org/{z}/{x}/{y}.png&quot;,\n                {&quot;attribution&quot;: &quot;\\u0026copy; \\u003ca href=\\&quot;https://www.openstreetmap.org/copyright\\&quot;\\u003eOpenStreetMap\\u003c/a\\u003e contributors&quot;, &quot;detectRetina&quot;: false, &quot;maxNativeZoom&quot;: 19, &quot;maxZoom&quot;: 19, &quot;minZoom&quot;: 0, &quot;noWrap&quot;: false, &quot;opacity&quot;: 1, &quot;subdomains&quot;: &quot;abc&quot;, &quot;tms&quot;: false}\n            );\n        \n    \n            tile_layer_f6ae3f1923f539942bfed7c9fe913b3e.addTo(map_eed41417bd42212d71d14c8db8d4a120);\n        \n    \n            var circle_5af404f059c6bfd60846dcd61cf8a484 = L.circle(\n                [29.559684888503615, -95.0830971930759],\n                {&quot;bubblingMouseEvents&quot;: true, &quot;color&quot;: &quot;#d35400&quot;, &quot;dashArray&quot;: null, &quot;dashOffset&quot;: null, &quot;fill&quot;: true, &quot;fillColor&quot;: &quot;#d35400&quot;, &quot;fillOpacity&quot;: 0.2, &quot;fillRule&quot;: &quot;evenodd&quot;, &quot;lineCap&quot;: &quot;round&quot;, &quot;lineJoin&quot;: &quot;round&quot;, &quot;opacity&quot;: 1.0, &quot;radius&quot;: 1000, &quot;stroke&quot;: true, &quot;weight&quot;: 3}\n            ).addTo(map_eed41417bd42212d71d14c8db8d4a120);\n        \n    \n        var popup_0ac7f8c33b49c93fc735c81318d47343 = L.popup({&quot;maxWidth&quot;: &quot;100%&quot;});\n\n        \n            \n                var html_617eb29036238b8f08e109da8ba985b9 = $(`&lt;div id=&quot;html_617eb29036238b8f08e109da8ba985b9&quot; style=&quot;width: 100.0%; height: 100.0%;&quot;&gt;NASA Johnson Space Center&lt;/div&gt;`)[0];\n                popup_0ac7f8c33b49c93fc735c81318d47343.setContent(html_617eb29036238b8f08e109da8ba985b9);\n            \n        \n\n        circle_5af404f059c6bfd60846dcd61cf8a484.bindPopup(popup_0ac7f8c33b49c93fc735c81318d47343)\n        ;\n\n        \n    \n    \n            var marker_7bb475fba49db864d898e3c5966478b8 = L.marker(\n                [29.559684888503615, -95.0830971930759],\n                {}\n            ).addTo(map_eed41417bd42212d71d14c8db8d4a120);\n        \n    \n            var div_icon_cffd3ded2de4136de414f5f9e6f1379f = L.divIcon({&quot;className&quot;: &quot;empty&quot;, &quot;html&quot;: &quot;\\u003cdiv style=\\&quot;font-size: 12; color:#d35400;\\&quot;\\u003e\\u003cb\\u003eNASA JSC\\u003c/b\\u003e\\u003c/div\\u003e&quot;, &quot;iconAnchor&quot;: [0, 0], &quot;iconSize&quot;: [20, 20]});\n            marker_7bb475fba49db864d898e3c5966478b8.setIcon(div_icon_cffd3ded2de4136de414f5f9e6f1379f);\n        \n&lt;/script&gt;\n&lt;/html&gt;\" style=\"position:absolute;width:100%;height:100%;left:0;top:0;border:none !important;\" allowfullscreen webkitallowfullscreen mozallowfullscreen></iframe></div></div>"
          },
          "metadata": {}
        }
      ],
      "execution_count": 9
    },
    {
      "cell_type": "markdown",
      "source": "and you should find a small yellow circle near the city of Houston and you can zoom-in to see a larger circle.\n",
      "metadata": {}
    },
    {
      "cell_type": "markdown",
      "source": "Now, let's add a circle for each launch site in data frame `launch_sites`\n",
      "metadata": {}
    },
    {
      "cell_type": "markdown",
      "source": "*TODO:*  Create and add `folium.Circle` and `folium.Marker` for each launch site on the site map\n",
      "metadata": {}
    },
    {
      "cell_type": "markdown",
      "source": "An example of folium.Circle:\n",
      "metadata": {}
    },
    {
      "cell_type": "markdown",
      "source": "`folium.Circle(coordinate, radius=1000, color='#000000', fill=True).add_child(folium.Popup(...))`\n",
      "metadata": {}
    },
    {
      "cell_type": "markdown",
      "source": "An example of folium.Marker:\n",
      "metadata": {}
    },
    {
      "cell_type": "markdown",
      "source": "`folium.map.Marker(coordinate, icon=DivIcon(icon_size=(20,20),icon_anchor=(0,0), html='<div style=\"font-size: 12; color:#d35400;\"><b>%s</b></div>' % 'label', ))`\n",
      "metadata": {}
    },
    {
      "cell_type": "code",
      "source": "# Initial the map\nsite_map = folium.Map(location=nasa_coordinate, zoom_start=5)\n# For each launch site, add a Circle object based on its coordinate (Lat, Long) values. In addition, add Launch site name as a popup label\n",
      "metadata": {
        "trusted": true
      },
      "outputs": [],
      "execution_count": 10
    },
    {
      "cell_type": "code",
      "source": "launch_sites_df.columns",
      "metadata": {
        "trusted": true
      },
      "outputs": [
        {
          "execution_count": 11,
          "output_type": "execute_result",
          "data": {
            "text/plain": "Index(['Launch Site', 'Lat', 'Long'], dtype='object')"
          },
          "metadata": {}
        }
      ],
      "execution_count": 11
    },
    {
      "cell_type": "code",
      "source": "len(launch_sites_df) ",
      "metadata": {
        "trusted": true
      },
      "outputs": [
        {
          "execution_count": 12,
          "output_type": "execute_result",
          "data": {
            "text/plain": "4"
          },
          "metadata": {}
        }
      ],
      "execution_count": 12
    },
    {
      "cell_type": "code",
      "source": "#launch_sites_df.columns\nlaunch_sites_df = pd.DataFrame(launch_sites_df)\ni = 0\nwhile i < len(launch_sites_df) :\n    print(launch_sites_df['Lat'][i])\n    i=i+1\n\nprint('launch_sites_df')",
      "metadata": {
        "trusted": true
      },
      "outputs": [
        {
          "name": "stdout",
          "text": "28.56230197\n28.56319718\n28.57325457\n34.63283416\nlaunch_sites_df\n",
          "output_type": "stream"
        }
      ],
      "execution_count": 13
    },
    {
      "cell_type": "code",
      "source": "launch_sites_df['Lat']",
      "metadata": {
        "trusted": true
      },
      "outputs": [
        {
          "execution_count": 14,
          "output_type": "execute_result",
          "data": {
            "text/plain": "0    28.562302\n1    28.563197\n2    28.573255\n3    34.632834\nName: Lat, dtype: float64"
          },
          "metadata": {}
        }
      ],
      "execution_count": 14
    },
    {
      "cell_type": "code",
      "source": "site_map1 = folium.Map(location=nasa_coordinate, zoom_start=5)\n\ni = 0\nwhile i < len(launch_sites_df) :\n# Create a blue circle at NASA Johnson Space Center's coordinate with a popup label showing its name\n    nasa_coordinate = [launch_sites_df['Lat'][i], launch_sites_df['Long'][i]]\n    circle = folium.Circle(nasa_coordinate, radius=1000, color='#d35400', fill=True).add_child(folium.Popup('NASA Johnson Space Center'))\n    # Create a blue circle at NASA Johnson Space Center's coordinate with a icon showing its name\n    marker = folium.map.Marker(\n        nasa_coordinate,\n        # Create an icon as a text label\n        icon=DivIcon(\n            icon_size=(20,20),\n            icon_anchor=(0,0),\n            html='<div style=\"font-size: 12; color:#d35400;\"><b>%s</b></div>' % launch_sites_df['Launch Site'][i],\n            )\n        )\n    print(launch_sites_df['Launch Site'][i])\n    print(launch_sites_df['Lat'][i])\n    print(launch_sites_df['Long'][i])\n    i=i+1\n    site_map1.add_child(circle)\n    site_map1.add_child(marker)\nsite_map1",
      "metadata": {
        "trusted": true
      },
      "outputs": [
        {
          "name": "stdout",
          "text": "CCAFS LC-40\n28.56230197\n-80.57735648\nCCAFS SLC-40\n28.56319718\n-80.57682003\nKSC LC-39A\n28.57325457\n-80.64689529\nVAFB SLC-4E\n34.63283416\n-120.6107455\n",
          "output_type": "stream"
        },
        {
          "execution_count": 15,
          "output_type": "execute_result",
          "data": {
            "text/plain": "<folium.folium.Map at 0x5b789e8>",
            "text/html": "<div style=\"width:100%;\"><div style=\"position:relative;width:100%;height:0;padding-bottom:60%;\"><span style=\"color:#565656\">Make this Notebook Trusted to load map: File -> Trust Notebook</span><iframe srcdoc=\"&lt;!DOCTYPE html&gt;\n&lt;html&gt;\n&lt;head&gt;\n    \n    &lt;meta http-equiv=&quot;content-type&quot; content=&quot;text/html; charset=UTF-8&quot; /&gt;\n    \n        &lt;script&gt;\n            L_NO_TOUCH = false;\n            L_DISABLE_3D = false;\n        &lt;/script&gt;\n    \n    &lt;style&gt;html, body {width: 100%;height: 100%;margin: 0;padding: 0;}&lt;/style&gt;\n    &lt;style&gt;#map {position:absolute;top:0;bottom:0;right:0;left:0;}&lt;/style&gt;\n    &lt;script src=&quot;https://cdn.jsdelivr.net/npm/leaflet@1.9.3/dist/leaflet.js&quot;&gt;&lt;/script&gt;\n    &lt;script src=&quot;https://code.jquery.com/jquery-3.7.1.min.js&quot;&gt;&lt;/script&gt;\n    &lt;script src=&quot;https://cdn.jsdelivr.net/npm/bootstrap@5.2.2/dist/js/bootstrap.bundle.min.js&quot;&gt;&lt;/script&gt;\n    &lt;script src=&quot;https://cdnjs.cloudflare.com/ajax/libs/Leaflet.awesome-markers/2.0.2/leaflet.awesome-markers.js&quot;&gt;&lt;/script&gt;\n    &lt;link rel=&quot;stylesheet&quot; href=&quot;https://cdn.jsdelivr.net/npm/leaflet@1.9.3/dist/leaflet.css&quot;/&gt;\n    &lt;link rel=&quot;stylesheet&quot; href=&quot;https://cdn.jsdelivr.net/npm/bootstrap@5.2.2/dist/css/bootstrap.min.css&quot;/&gt;\n    &lt;link rel=&quot;stylesheet&quot; href=&quot;https://netdna.bootstrapcdn.com/bootstrap/3.0.0/css/bootstrap.min.css&quot;/&gt;\n    &lt;link rel=&quot;stylesheet&quot; href=&quot;https://cdn.jsdelivr.net/npm/@fortawesome/fontawesome-free@6.2.0/css/all.min.css&quot;/&gt;\n    &lt;link rel=&quot;stylesheet&quot; href=&quot;https://cdnjs.cloudflare.com/ajax/libs/Leaflet.awesome-markers/2.0.2/leaflet.awesome-markers.css&quot;/&gt;\n    &lt;link rel=&quot;stylesheet&quot; href=&quot;https://cdn.jsdelivr.net/gh/python-visualization/folium/folium/templates/leaflet.awesome.rotate.min.css&quot;/&gt;\n    \n            &lt;meta name=&quot;viewport&quot; content=&quot;width=device-width,\n                initial-scale=1.0, maximum-scale=1.0, user-scalable=no&quot; /&gt;\n            &lt;style&gt;\n                #map_6a869e05d39a1abc36433e381aae7dcc {\n                    position: relative;\n                    width: 100.0%;\n                    height: 100.0%;\n                    left: 0.0%;\n                    top: 0.0%;\n                }\n                .leaflet-container { font-size: 1rem; }\n            &lt;/style&gt;\n        \n&lt;/head&gt;\n&lt;body&gt;\n    \n    \n            &lt;div class=&quot;folium-map&quot; id=&quot;map_6a869e05d39a1abc36433e381aae7dcc&quot; &gt;&lt;/div&gt;\n        \n&lt;/body&gt;\n&lt;script&gt;\n    \n    \n            var map_6a869e05d39a1abc36433e381aae7dcc = L.map(\n                &quot;map_6a869e05d39a1abc36433e381aae7dcc&quot;,\n                {\n                    center: [29.559684888503615, -95.0830971930759],\n                    crs: L.CRS.EPSG3857,\n                    zoom: 5,\n                    zoomControl: true,\n                    preferCanvas: false,\n                }\n            );\n\n            \n\n        \n    \n            var tile_layer_64b2d26483f324e29b1ff51546902096 = L.tileLayer(\n                &quot;https://tile.openstreetmap.org/{z}/{x}/{y}.png&quot;,\n                {&quot;attribution&quot;: &quot;\\u0026copy; \\u003ca href=\\&quot;https://www.openstreetmap.org/copyright\\&quot;\\u003eOpenStreetMap\\u003c/a\\u003e contributors&quot;, &quot;detectRetina&quot;: false, &quot;maxNativeZoom&quot;: 19, &quot;maxZoom&quot;: 19, &quot;minZoom&quot;: 0, &quot;noWrap&quot;: false, &quot;opacity&quot;: 1, &quot;subdomains&quot;: &quot;abc&quot;, &quot;tms&quot;: false}\n            );\n        \n    \n            tile_layer_64b2d26483f324e29b1ff51546902096.addTo(map_6a869e05d39a1abc36433e381aae7dcc);\n        \n    \n            var circle_b129d2c7bb6236b9cbad468915a630ad = L.circle(\n                [28.56230197, -80.57735648],\n                {&quot;bubblingMouseEvents&quot;: true, &quot;color&quot;: &quot;#d35400&quot;, &quot;dashArray&quot;: null, &quot;dashOffset&quot;: null, &quot;fill&quot;: true, &quot;fillColor&quot;: &quot;#d35400&quot;, &quot;fillOpacity&quot;: 0.2, &quot;fillRule&quot;: &quot;evenodd&quot;, &quot;lineCap&quot;: &quot;round&quot;, &quot;lineJoin&quot;: &quot;round&quot;, &quot;opacity&quot;: 1.0, &quot;radius&quot;: 1000, &quot;stroke&quot;: true, &quot;weight&quot;: 3}\n            ).addTo(map_6a869e05d39a1abc36433e381aae7dcc);\n        \n    \n        var popup_726af8d91955cd77764dd332c153a2b5 = L.popup({&quot;maxWidth&quot;: &quot;100%&quot;});\n\n        \n            \n                var html_79d0bf5fd5a21d311f42afe6a30d1cb1 = $(`&lt;div id=&quot;html_79d0bf5fd5a21d311f42afe6a30d1cb1&quot; style=&quot;width: 100.0%; height: 100.0%;&quot;&gt;NASA Johnson Space Center&lt;/div&gt;`)[0];\n                popup_726af8d91955cd77764dd332c153a2b5.setContent(html_79d0bf5fd5a21d311f42afe6a30d1cb1);\n            \n        \n\n        circle_b129d2c7bb6236b9cbad468915a630ad.bindPopup(popup_726af8d91955cd77764dd332c153a2b5)\n        ;\n\n        \n    \n    \n            var marker_9f57d478feddd4ac01657711f63689e8 = L.marker(\n                [28.56230197, -80.57735648],\n                {}\n            ).addTo(map_6a869e05d39a1abc36433e381aae7dcc);\n        \n    \n            var div_icon_b815880c519c99440b8ce51a6d98d710 = L.divIcon({&quot;className&quot;: &quot;empty&quot;, &quot;html&quot;: &quot;\\u003cdiv style=\\&quot;font-size: 12; color:#d35400;\\&quot;\\u003e\\u003cb\\u003eCCAFS LC-40\\u003c/b\\u003e\\u003c/div\\u003e&quot;, &quot;iconAnchor&quot;: [0, 0], &quot;iconSize&quot;: [20, 20]});\n            marker_9f57d478feddd4ac01657711f63689e8.setIcon(div_icon_b815880c519c99440b8ce51a6d98d710);\n        \n    \n            var circle_6a462e4b80520c046b072f1f97e3b481 = L.circle(\n                [28.56319718, -80.57682003],\n                {&quot;bubblingMouseEvents&quot;: true, &quot;color&quot;: &quot;#d35400&quot;, &quot;dashArray&quot;: null, &quot;dashOffset&quot;: null, &quot;fill&quot;: true, &quot;fillColor&quot;: &quot;#d35400&quot;, &quot;fillOpacity&quot;: 0.2, &quot;fillRule&quot;: &quot;evenodd&quot;, &quot;lineCap&quot;: &quot;round&quot;, &quot;lineJoin&quot;: &quot;round&quot;, &quot;opacity&quot;: 1.0, &quot;radius&quot;: 1000, &quot;stroke&quot;: true, &quot;weight&quot;: 3}\n            ).addTo(map_6a869e05d39a1abc36433e381aae7dcc);\n        \n    \n        var popup_a585300631cbaf5a3f4ab03bd37698cc = L.popup({&quot;maxWidth&quot;: &quot;100%&quot;});\n\n        \n            \n                var html_fd232484f32c4756cbec970d97c2276b = $(`&lt;div id=&quot;html_fd232484f32c4756cbec970d97c2276b&quot; style=&quot;width: 100.0%; height: 100.0%;&quot;&gt;NASA Johnson Space Center&lt;/div&gt;`)[0];\n                popup_a585300631cbaf5a3f4ab03bd37698cc.setContent(html_fd232484f32c4756cbec970d97c2276b);\n            \n        \n\n        circle_6a462e4b80520c046b072f1f97e3b481.bindPopup(popup_a585300631cbaf5a3f4ab03bd37698cc)\n        ;\n\n        \n    \n    \n            var marker_50dbfd655e672a965dcf59077fecb626 = L.marker(\n                [28.56319718, -80.57682003],\n                {}\n            ).addTo(map_6a869e05d39a1abc36433e381aae7dcc);\n        \n    \n            var div_icon_8bff67a041b426c4b58fd46b28920409 = L.divIcon({&quot;className&quot;: &quot;empty&quot;, &quot;html&quot;: &quot;\\u003cdiv style=\\&quot;font-size: 12; color:#d35400;\\&quot;\\u003e\\u003cb\\u003eCCAFS SLC-40\\u003c/b\\u003e\\u003c/div\\u003e&quot;, &quot;iconAnchor&quot;: [0, 0], &quot;iconSize&quot;: [20, 20]});\n            marker_50dbfd655e672a965dcf59077fecb626.setIcon(div_icon_8bff67a041b426c4b58fd46b28920409);\n        \n    \n            var circle_ca5c29e95842c3e84b9362c2d96d4158 = L.circle(\n                [28.57325457, -80.64689529],\n                {&quot;bubblingMouseEvents&quot;: true, &quot;color&quot;: &quot;#d35400&quot;, &quot;dashArray&quot;: null, &quot;dashOffset&quot;: null, &quot;fill&quot;: true, &quot;fillColor&quot;: &quot;#d35400&quot;, &quot;fillOpacity&quot;: 0.2, &quot;fillRule&quot;: &quot;evenodd&quot;, &quot;lineCap&quot;: &quot;round&quot;, &quot;lineJoin&quot;: &quot;round&quot;, &quot;opacity&quot;: 1.0, &quot;radius&quot;: 1000, &quot;stroke&quot;: true, &quot;weight&quot;: 3}\n            ).addTo(map_6a869e05d39a1abc36433e381aae7dcc);\n        \n    \n        var popup_d74dfe8ffbe43f7afe4f65c5fda35245 = L.popup({&quot;maxWidth&quot;: &quot;100%&quot;});\n\n        \n            \n                var html_ce6d6fe31c4436aca027f0e479d699df = $(`&lt;div id=&quot;html_ce6d6fe31c4436aca027f0e479d699df&quot; style=&quot;width: 100.0%; height: 100.0%;&quot;&gt;NASA Johnson Space Center&lt;/div&gt;`)[0];\n                popup_d74dfe8ffbe43f7afe4f65c5fda35245.setContent(html_ce6d6fe31c4436aca027f0e479d699df);\n            \n        \n\n        circle_ca5c29e95842c3e84b9362c2d96d4158.bindPopup(popup_d74dfe8ffbe43f7afe4f65c5fda35245)\n        ;\n\n        \n    \n    \n            var marker_fafebdc389e2bf285215d3e39e4b4908 = L.marker(\n                [28.57325457, -80.64689529],\n                {}\n            ).addTo(map_6a869e05d39a1abc36433e381aae7dcc);\n        \n    \n            var div_icon_99bd7f59829c4653e6ec8857fef701cf = L.divIcon({&quot;className&quot;: &quot;empty&quot;, &quot;html&quot;: &quot;\\u003cdiv style=\\&quot;font-size: 12; color:#d35400;\\&quot;\\u003e\\u003cb\\u003eKSC LC-39A\\u003c/b\\u003e\\u003c/div\\u003e&quot;, &quot;iconAnchor&quot;: [0, 0], &quot;iconSize&quot;: [20, 20]});\n            marker_fafebdc389e2bf285215d3e39e4b4908.setIcon(div_icon_99bd7f59829c4653e6ec8857fef701cf);\n        \n    \n            var circle_85adba19a48e6686ab22bb9bfe6f18e2 = L.circle(\n                [34.63283416, -120.6107455],\n                {&quot;bubblingMouseEvents&quot;: true, &quot;color&quot;: &quot;#d35400&quot;, &quot;dashArray&quot;: null, &quot;dashOffset&quot;: null, &quot;fill&quot;: true, &quot;fillColor&quot;: &quot;#d35400&quot;, &quot;fillOpacity&quot;: 0.2, &quot;fillRule&quot;: &quot;evenodd&quot;, &quot;lineCap&quot;: &quot;round&quot;, &quot;lineJoin&quot;: &quot;round&quot;, &quot;opacity&quot;: 1.0, &quot;radius&quot;: 1000, &quot;stroke&quot;: true, &quot;weight&quot;: 3}\n            ).addTo(map_6a869e05d39a1abc36433e381aae7dcc);\n        \n    \n        var popup_1590f950f516ed5d74bbfa797803c134 = L.popup({&quot;maxWidth&quot;: &quot;100%&quot;});\n\n        \n            \n                var html_99d58217bf44540e61a623278d409fff = $(`&lt;div id=&quot;html_99d58217bf44540e61a623278d409fff&quot; style=&quot;width: 100.0%; height: 100.0%;&quot;&gt;NASA Johnson Space Center&lt;/div&gt;`)[0];\n                popup_1590f950f516ed5d74bbfa797803c134.setContent(html_99d58217bf44540e61a623278d409fff);\n            \n        \n\n        circle_85adba19a48e6686ab22bb9bfe6f18e2.bindPopup(popup_1590f950f516ed5d74bbfa797803c134)\n        ;\n\n        \n    \n    \n            var marker_cc30ecc07697dc1db45668fa0f9ce38c = L.marker(\n                [34.63283416, -120.6107455],\n                {}\n            ).addTo(map_6a869e05d39a1abc36433e381aae7dcc);\n        \n    \n            var div_icon_dee40c4e15c2e98a6e74d0fb7e7762c1 = L.divIcon({&quot;className&quot;: &quot;empty&quot;, &quot;html&quot;: &quot;\\u003cdiv style=\\&quot;font-size: 12; color:#d35400;\\&quot;\\u003e\\u003cb\\u003eVAFB SLC-4E\\u003c/b\\u003e\\u003c/div\\u003e&quot;, &quot;iconAnchor&quot;: [0, 0], &quot;iconSize&quot;: [20, 20]});\n            marker_cc30ecc07697dc1db45668fa0f9ce38c.setIcon(div_icon_dee40c4e15c2e98a6e74d0fb7e7762c1);\n        \n&lt;/script&gt;\n&lt;/html&gt;\" style=\"position:absolute;width:100%;height:100%;left:0;top:0;border:none !important;\" allowfullscreen webkitallowfullscreen mozallowfullscreen></iframe></div></div>"
          },
          "metadata": {}
        }
      ],
      "execution_count": 15
    },
    {
      "cell_type": "markdown",
      "source": "The generated map with marked launch sites should look similar to the following:\n",
      "metadata": {}
    },
    {
      "cell_type": "markdown",
      "source": "<center>\n    <img src=\"https://cf-courses-data.s3.us.cloud-object-storage.appdomain.cloud/IBM-DS0321EN-SkillsNetwork/labs/module_3/images/launch_site_markers.png\">\n</center>\n",
      "metadata": {}
    },
    {
      "cell_type": "markdown",
      "source": "Now, you can explore the map by zoom-in/out the marked areas\n, and try to answer the following questions:\n\n*   Are all launch sites in proximity to the Equator line?\n*   Are all launch sites in very close proximity to the coast?\n\nAlso please try to explain your findings.\n",
      "metadata": {}
    },
    {
      "cell_type": "code",
      "source": "# Task 2: Mark the success/failed launches for each site on the map\n",
      "metadata": {
        "trusted": true
      },
      "outputs": [],
      "execution_count": 16
    },
    {
      "cell_type": "markdown",
      "source": "Next, let's try to enhance the map by adding the launch outcomes for each site, and see which sites have high success rates.\nRecall that data frame spacex_df has detailed launch records, and the `class` column indicates if this launch was successful or not\n",
      "metadata": {}
    },
    {
      "cell_type": "code",
      "source": "spacex_df.tail(10)",
      "metadata": {
        "trusted": true
      },
      "outputs": [
        {
          "execution_count": 17,
          "output_type": "execute_result",
          "data": {
            "text/plain": "     Launch Site        Lat       Long  class\n46    KSC LC-39A  28.573255 -80.646895      1\n47    KSC LC-39A  28.573255 -80.646895      1\n48    KSC LC-39A  28.573255 -80.646895      1\n49  CCAFS SLC-40  28.563197 -80.576820      1\n50  CCAFS SLC-40  28.563197 -80.576820      1\n51  CCAFS SLC-40  28.563197 -80.576820      0\n52  CCAFS SLC-40  28.563197 -80.576820      0\n53  CCAFS SLC-40  28.563197 -80.576820      0\n54  CCAFS SLC-40  28.563197 -80.576820      1\n55  CCAFS SLC-40  28.563197 -80.576820      0",
            "text/html": "<div>\n<style scoped>\n    .dataframe tbody tr th:only-of-type {\n        vertical-align: middle;\n    }\n\n    .dataframe tbody tr th {\n        vertical-align: top;\n    }\n\n    .dataframe thead th {\n        text-align: right;\n    }\n</style>\n<table border=\"1\" class=\"dataframe\">\n  <thead>\n    <tr style=\"text-align: right;\">\n      <th></th>\n      <th>Launch Site</th>\n      <th>Lat</th>\n      <th>Long</th>\n      <th>class</th>\n    </tr>\n  </thead>\n  <tbody>\n    <tr>\n      <th>46</th>\n      <td>KSC LC-39A</td>\n      <td>28.573255</td>\n      <td>-80.646895</td>\n      <td>1</td>\n    </tr>\n    <tr>\n      <th>47</th>\n      <td>KSC LC-39A</td>\n      <td>28.573255</td>\n      <td>-80.646895</td>\n      <td>1</td>\n    </tr>\n    <tr>\n      <th>48</th>\n      <td>KSC LC-39A</td>\n      <td>28.573255</td>\n      <td>-80.646895</td>\n      <td>1</td>\n    </tr>\n    <tr>\n      <th>49</th>\n      <td>CCAFS SLC-40</td>\n      <td>28.563197</td>\n      <td>-80.576820</td>\n      <td>1</td>\n    </tr>\n    <tr>\n      <th>50</th>\n      <td>CCAFS SLC-40</td>\n      <td>28.563197</td>\n      <td>-80.576820</td>\n      <td>1</td>\n    </tr>\n    <tr>\n      <th>51</th>\n      <td>CCAFS SLC-40</td>\n      <td>28.563197</td>\n      <td>-80.576820</td>\n      <td>0</td>\n    </tr>\n    <tr>\n      <th>52</th>\n      <td>CCAFS SLC-40</td>\n      <td>28.563197</td>\n      <td>-80.576820</td>\n      <td>0</td>\n    </tr>\n    <tr>\n      <th>53</th>\n      <td>CCAFS SLC-40</td>\n      <td>28.563197</td>\n      <td>-80.576820</td>\n      <td>0</td>\n    </tr>\n    <tr>\n      <th>54</th>\n      <td>CCAFS SLC-40</td>\n      <td>28.563197</td>\n      <td>-80.576820</td>\n      <td>1</td>\n    </tr>\n    <tr>\n      <th>55</th>\n      <td>CCAFS SLC-40</td>\n      <td>28.563197</td>\n      <td>-80.576820</td>\n      <td>0</td>\n    </tr>\n  </tbody>\n</table>\n</div>"
          },
          "metadata": {}
        }
      ],
      "execution_count": 17
    },
    {
      "cell_type": "markdown",
      "source": "Next, let's create markers for all launch records.\nIf a launch was successful `(class=1)`, then we use a green marker and if a launch was failed, we use a red marker `(class=0)`\n",
      "metadata": {}
    },
    {
      "cell_type": "markdown",
      "source": "Note that a launch only happens in one of the four launch sites, which means many launch records will have the exact same coordinate. Marker clusters can be a good way to simplify a map containing many markers having the same coordinate.\n",
      "metadata": {}
    },
    {
      "cell_type": "markdown",
      "source": "Let's first create a `MarkerCluster` object\n",
      "metadata": {}
    },
    {
      "cell_type": "code",
      "source": "marker_cluster = MarkerCluster()\n",
      "metadata": {
        "trusted": true
      },
      "outputs": [],
      "execution_count": 18
    },
    {
      "cell_type": "markdown",
      "source": "*TODO:* Create a new column in `launch_sites` dataframe called `marker_color` to store the marker colors based on the `class` value\n",
      "metadata": {}
    },
    {
      "cell_type": "code",
      "source": "\n# Apply a function to check the value of `class` column\n# If class=1, marker_color value will be green\n# If class=0, marker_color value will be red",
      "metadata": {
        "trusted": true
      },
      "outputs": [],
      "execution_count": 19
    },
    {
      "cell_type": "markdown",
      "source": "*TODO:* For each launch result in `spacex_df` data frame, add a `folium.Marker` to `marker_cluster`\n",
      "metadata": {}
    },
    {
      "cell_type": "code",
      "source": "spacex_df.columns",
      "metadata": {
        "trusted": true
      },
      "outputs": [
        {
          "execution_count": 20,
          "output_type": "execute_result",
          "data": {
            "text/plain": "Index(['Launch Site', 'Lat', 'Long', 'class'], dtype='object')"
          },
          "metadata": {}
        }
      ],
      "execution_count": 20
    },
    {
      "cell_type": "code",
      "source": "from folium import plugins\nimport numpy as np",
      "metadata": {
        "trusted": true
      },
      "outputs": [],
      "execution_count": 32
    },
    {
      "cell_type": "code",
      "source": "# Add marker_cluster to current site_map\nsite_map = folium.Map(location=nasa_coordinate, zoom_start=5)\n#site_map.add_child(marker_cluster)\nlaunches = plugins.MarkerCluster().add_to(site_map)\n\n# for each row in spacex_df data frame\n# create a Marker object with its coordinate\n# and customize the Marker's icon property to indicate if this launch was successed or failed, \n# e.g., icon=folium.Icon(color='white', icon_color=row['marker_color']\nspacex_df[\"Colour\"] = np.where(spacex_df['class'] == 1, 'Green', 'Red')\nfor index, record in spacex_df.iterrows():\n    # TODO: Create and add a Marker cluster to the site map\n    # marker = folium.Marker(...)\n    # print(record[0])\n    folium.Marker(\n        location=[record[1], record[2]],\n        icon=folium.Icon(color='white', icon_color=record[4])\n        #popup=label,\n    ).add_to(launches)\n    #marker_cluster.add_child(marker)\n\nsite_map",
      "metadata": {
        "trusted": true
      },
      "outputs": [
        {
          "execution_count": 34,
          "output_type": "execute_result",
          "data": {
            "text/plain": "<folium.folium.Map at 0x6256188>",
            "text/html": "<div style=\"width:100%;\"><div style=\"position:relative;width:100%;height:0;padding-bottom:60%;\"><span style=\"color:#565656\">Make this Notebook Trusted to load map: File -> Trust Notebook</span><iframe srcdoc=\"&lt;!DOCTYPE html&gt;\n&lt;html&gt;\n&lt;head&gt;\n    \n    &lt;meta http-equiv=&quot;content-type&quot; content=&quot;text/html; charset=UTF-8&quot; /&gt;\n    \n        &lt;script&gt;\n            L_NO_TOUCH = false;\n            L_DISABLE_3D = false;\n        &lt;/script&gt;\n    \n    &lt;style&gt;html, body {width: 100%;height: 100%;margin: 0;padding: 0;}&lt;/style&gt;\n    &lt;style&gt;#map {position:absolute;top:0;bottom:0;right:0;left:0;}&lt;/style&gt;\n    &lt;script src=&quot;https://cdn.jsdelivr.net/npm/leaflet@1.9.3/dist/leaflet.js&quot;&gt;&lt;/script&gt;\n    &lt;script src=&quot;https://code.jquery.com/jquery-3.7.1.min.js&quot;&gt;&lt;/script&gt;\n    &lt;script src=&quot;https://cdn.jsdelivr.net/npm/bootstrap@5.2.2/dist/js/bootstrap.bundle.min.js&quot;&gt;&lt;/script&gt;\n    &lt;script src=&quot;https://cdnjs.cloudflare.com/ajax/libs/Leaflet.awesome-markers/2.0.2/leaflet.awesome-markers.js&quot;&gt;&lt;/script&gt;\n    &lt;link rel=&quot;stylesheet&quot; href=&quot;https://cdn.jsdelivr.net/npm/leaflet@1.9.3/dist/leaflet.css&quot;/&gt;\n    &lt;link rel=&quot;stylesheet&quot; href=&quot;https://cdn.jsdelivr.net/npm/bootstrap@5.2.2/dist/css/bootstrap.min.css&quot;/&gt;\n    &lt;link rel=&quot;stylesheet&quot; href=&quot;https://netdna.bootstrapcdn.com/bootstrap/3.0.0/css/bootstrap.min.css&quot;/&gt;\n    &lt;link rel=&quot;stylesheet&quot; href=&quot;https://cdn.jsdelivr.net/npm/@fortawesome/fontawesome-free@6.2.0/css/all.min.css&quot;/&gt;\n    &lt;link rel=&quot;stylesheet&quot; href=&quot;https://cdnjs.cloudflare.com/ajax/libs/Leaflet.awesome-markers/2.0.2/leaflet.awesome-markers.css&quot;/&gt;\n    &lt;link rel=&quot;stylesheet&quot; href=&quot;https://cdn.jsdelivr.net/gh/python-visualization/folium/folium/templates/leaflet.awesome.rotate.min.css&quot;/&gt;\n    \n            &lt;meta name=&quot;viewport&quot; content=&quot;width=device-width,\n                initial-scale=1.0, maximum-scale=1.0, user-scalable=no&quot; /&gt;\n            &lt;style&gt;\n                #map_3c1492650ea6e65c422143f532533fc5 {\n                    position: relative;\n                    width: 100.0%;\n                    height: 100.0%;\n                    left: 0.0%;\n                    top: 0.0%;\n                }\n                .leaflet-container { font-size: 1rem; }\n            &lt;/style&gt;\n        \n    &lt;script src=&quot;https://cdnjs.cloudflare.com/ajax/libs/leaflet.markercluster/1.1.0/leaflet.markercluster.js&quot;&gt;&lt;/script&gt;\n    &lt;link rel=&quot;stylesheet&quot; href=&quot;https://cdnjs.cloudflare.com/ajax/libs/leaflet.markercluster/1.1.0/MarkerCluster.css&quot;/&gt;\n    &lt;link rel=&quot;stylesheet&quot; href=&quot;https://cdnjs.cloudflare.com/ajax/libs/leaflet.markercluster/1.1.0/MarkerCluster.Default.css&quot;/&gt;\n&lt;/head&gt;\n&lt;body&gt;\n    \n    \n            &lt;div class=&quot;folium-map&quot; id=&quot;map_3c1492650ea6e65c422143f532533fc5&quot; &gt;&lt;/div&gt;\n        \n&lt;/body&gt;\n&lt;script&gt;\n    \n    \n            var map_3c1492650ea6e65c422143f532533fc5 = L.map(\n                &quot;map_3c1492650ea6e65c422143f532533fc5&quot;,\n                {\n                    center: [34.63283416, -120.6107455],\n                    crs: L.CRS.EPSG3857,\n                    zoom: 5,\n                    zoomControl: true,\n                    preferCanvas: false,\n                }\n            );\n\n            \n\n        \n    \n            var tile_layer_8f9df0d5ccfb520ae15e2c05de350393 = L.tileLayer(\n                &quot;https://tile.openstreetmap.org/{z}/{x}/{y}.png&quot;,\n                {&quot;attribution&quot;: &quot;\\u0026copy; \\u003ca href=\\&quot;https://www.openstreetmap.org/copyright\\&quot;\\u003eOpenStreetMap\\u003c/a\\u003e contributors&quot;, &quot;detectRetina&quot;: false, &quot;maxNativeZoom&quot;: 19, &quot;maxZoom&quot;: 19, &quot;minZoom&quot;: 0, &quot;noWrap&quot;: false, &quot;opacity&quot;: 1, &quot;subdomains&quot;: &quot;abc&quot;, &quot;tms&quot;: false}\n            );\n        \n    \n            tile_layer_8f9df0d5ccfb520ae15e2c05de350393.addTo(map_3c1492650ea6e65c422143f532533fc5);\n        \n    \n            var marker_cluster_a220a301e9e889ec4a01a9abb6e682dd = L.markerClusterGroup(\n                {}\n            );\n        \n    \n            var marker_d9ced8910e88ce8fcece096a158e0a8b = L.marker(\n                [28.56230197, -80.57735648],\n                {}\n            ).addTo(marker_cluster_a220a301e9e889ec4a01a9abb6e682dd);\n        \n    \n            var icon_c5b51e8a34db7452294452a5f0291dff = L.AwesomeMarkers.icon(\n                {&quot;extraClasses&quot;: &quot;fa-rotate-0&quot;, &quot;icon&quot;: &quot;info-sign&quot;, &quot;iconColor&quot;: &quot;Red&quot;, &quot;markerColor&quot;: &quot;white&quot;, &quot;prefix&quot;: &quot;glyphicon&quot;}\n            );\n            marker_d9ced8910e88ce8fcece096a158e0a8b.setIcon(icon_c5b51e8a34db7452294452a5f0291dff);\n        \n    \n            var marker_49212c3b66c69777fe7be7e7c460c4ad = L.marker(\n                [28.56230197, -80.57735648],\n                {}\n            ).addTo(marker_cluster_a220a301e9e889ec4a01a9abb6e682dd);\n        \n    \n            var icon_1e15d43172dd1c812dd445585c1d03b5 = L.AwesomeMarkers.icon(\n                {&quot;extraClasses&quot;: &quot;fa-rotate-0&quot;, &quot;icon&quot;: &quot;info-sign&quot;, &quot;iconColor&quot;: &quot;Red&quot;, &quot;markerColor&quot;: &quot;white&quot;, &quot;prefix&quot;: &quot;glyphicon&quot;}\n            );\n            marker_49212c3b66c69777fe7be7e7c460c4ad.setIcon(icon_1e15d43172dd1c812dd445585c1d03b5);\n        \n    \n            var marker_96a8cb94bc3a673acc645cf1297cf10b = L.marker(\n                [28.56230197, -80.57735648],\n                {}\n            ).addTo(marker_cluster_a220a301e9e889ec4a01a9abb6e682dd);\n        \n    \n            var icon_f2bf2eb340c7beb1312090c8fbda443a = L.AwesomeMarkers.icon(\n                {&quot;extraClasses&quot;: &quot;fa-rotate-0&quot;, &quot;icon&quot;: &quot;info-sign&quot;, &quot;iconColor&quot;: &quot;Red&quot;, &quot;markerColor&quot;: &quot;white&quot;, &quot;prefix&quot;: &quot;glyphicon&quot;}\n            );\n            marker_96a8cb94bc3a673acc645cf1297cf10b.setIcon(icon_f2bf2eb340c7beb1312090c8fbda443a);\n        \n    \n            var marker_3eff260a9f8522088505b185bf1890cc = L.marker(\n                [28.56230197, -80.57735648],\n                {}\n            ).addTo(marker_cluster_a220a301e9e889ec4a01a9abb6e682dd);\n        \n    \n            var icon_2b9679ebbd39e0da986c13cb8512f989 = L.AwesomeMarkers.icon(\n                {&quot;extraClasses&quot;: &quot;fa-rotate-0&quot;, &quot;icon&quot;: &quot;info-sign&quot;, &quot;iconColor&quot;: &quot;Red&quot;, &quot;markerColor&quot;: &quot;white&quot;, &quot;prefix&quot;: &quot;glyphicon&quot;}\n            );\n            marker_3eff260a9f8522088505b185bf1890cc.setIcon(icon_2b9679ebbd39e0da986c13cb8512f989);\n        \n    \n            var marker_7fb35238cd392a90c80fc9bef5dca0d5 = L.marker(\n                [28.56230197, -80.57735648],\n                {}\n            ).addTo(marker_cluster_a220a301e9e889ec4a01a9abb6e682dd);\n        \n    \n            var icon_81c8fc52103db07effea249dc227226c = L.AwesomeMarkers.icon(\n                {&quot;extraClasses&quot;: &quot;fa-rotate-0&quot;, &quot;icon&quot;: &quot;info-sign&quot;, &quot;iconColor&quot;: &quot;Red&quot;, &quot;markerColor&quot;: &quot;white&quot;, &quot;prefix&quot;: &quot;glyphicon&quot;}\n            );\n            marker_7fb35238cd392a90c80fc9bef5dca0d5.setIcon(icon_81c8fc52103db07effea249dc227226c);\n        \n    \n            var marker_ee66ed41a49f18197d913b6eecad308b = L.marker(\n                [28.56230197, -80.57735648],\n                {}\n            ).addTo(marker_cluster_a220a301e9e889ec4a01a9abb6e682dd);\n        \n    \n            var icon_c97c28ee020d26c59e45abf476c9e97e = L.AwesomeMarkers.icon(\n                {&quot;extraClasses&quot;: &quot;fa-rotate-0&quot;, &quot;icon&quot;: &quot;info-sign&quot;, &quot;iconColor&quot;: &quot;Red&quot;, &quot;markerColor&quot;: &quot;white&quot;, &quot;prefix&quot;: &quot;glyphicon&quot;}\n            );\n            marker_ee66ed41a49f18197d913b6eecad308b.setIcon(icon_c97c28ee020d26c59e45abf476c9e97e);\n        \n    \n            var marker_71b0783ff3e0eccf5ecba61b2b59b24c = L.marker(\n                [28.56230197, -80.57735648],\n                {}\n            ).addTo(marker_cluster_a220a301e9e889ec4a01a9abb6e682dd);\n        \n    \n            var icon_d3cbea971e3d0fbae7ec4cac92cbe438 = L.AwesomeMarkers.icon(\n                {&quot;extraClasses&quot;: &quot;fa-rotate-0&quot;, &quot;icon&quot;: &quot;info-sign&quot;, &quot;iconColor&quot;: &quot;Red&quot;, &quot;markerColor&quot;: &quot;white&quot;, &quot;prefix&quot;: &quot;glyphicon&quot;}\n            );\n            marker_71b0783ff3e0eccf5ecba61b2b59b24c.setIcon(icon_d3cbea971e3d0fbae7ec4cac92cbe438);\n        \n    \n            var marker_eb98be3d6110d940b276dc31ef832710 = L.marker(\n                [28.56230197, -80.57735648],\n                {}\n            ).addTo(marker_cluster_a220a301e9e889ec4a01a9abb6e682dd);\n        \n    \n            var icon_00d83ba5af3f8aadb0638a3e067bfc69 = L.AwesomeMarkers.icon(\n                {&quot;extraClasses&quot;: &quot;fa-rotate-0&quot;, &quot;icon&quot;: &quot;info-sign&quot;, &quot;iconColor&quot;: &quot;Red&quot;, &quot;markerColor&quot;: &quot;white&quot;, &quot;prefix&quot;: &quot;glyphicon&quot;}\n            );\n            marker_eb98be3d6110d940b276dc31ef832710.setIcon(icon_00d83ba5af3f8aadb0638a3e067bfc69);\n        \n    \n            var marker_c982000c19e23fa7083eac36d1acb6d4 = L.marker(\n                [28.56230197, -80.57735648],\n                {}\n            ).addTo(marker_cluster_a220a301e9e889ec4a01a9abb6e682dd);\n        \n    \n            var icon_243735c8aa03190cbc45c645b6b52208 = L.AwesomeMarkers.icon(\n                {&quot;extraClasses&quot;: &quot;fa-rotate-0&quot;, &quot;icon&quot;: &quot;info-sign&quot;, &quot;iconColor&quot;: &quot;Red&quot;, &quot;markerColor&quot;: &quot;white&quot;, &quot;prefix&quot;: &quot;glyphicon&quot;}\n            );\n            marker_c982000c19e23fa7083eac36d1acb6d4.setIcon(icon_243735c8aa03190cbc45c645b6b52208);\n        \n    \n            var marker_09b6a0b4391ad130ea562cacc075d375 = L.marker(\n                [28.56230197, -80.57735648],\n                {}\n            ).addTo(marker_cluster_a220a301e9e889ec4a01a9abb6e682dd);\n        \n    \n            var icon_6896f556ea70ab2bec9cf60b32a9e8aa = L.AwesomeMarkers.icon(\n                {&quot;extraClasses&quot;: &quot;fa-rotate-0&quot;, &quot;icon&quot;: &quot;info-sign&quot;, &quot;iconColor&quot;: &quot;Red&quot;, &quot;markerColor&quot;: &quot;white&quot;, &quot;prefix&quot;: &quot;glyphicon&quot;}\n            );\n            marker_09b6a0b4391ad130ea562cacc075d375.setIcon(icon_6896f556ea70ab2bec9cf60b32a9e8aa);\n        \n    \n            var marker_5de7258b232e30ae1a05819b07516a69 = L.marker(\n                [28.56230197, -80.57735648],\n                {}\n            ).addTo(marker_cluster_a220a301e9e889ec4a01a9abb6e682dd);\n        \n    \n            var icon_d609e28cccc837f46be28eda30c6b7cc = L.AwesomeMarkers.icon(\n                {&quot;extraClasses&quot;: &quot;fa-rotate-0&quot;, &quot;icon&quot;: &quot;info-sign&quot;, &quot;iconColor&quot;: &quot;Red&quot;, &quot;markerColor&quot;: &quot;white&quot;, &quot;prefix&quot;: &quot;glyphicon&quot;}\n            );\n            marker_5de7258b232e30ae1a05819b07516a69.setIcon(icon_d609e28cccc837f46be28eda30c6b7cc);\n        \n    \n            var marker_be676b368fc81aa59612ddafb6478b8d = L.marker(\n                [28.56230197, -80.57735648],\n                {}\n            ).addTo(marker_cluster_a220a301e9e889ec4a01a9abb6e682dd);\n        \n    \n            var icon_030f105211d279b7ca7aa4e85fdb16e8 = L.AwesomeMarkers.icon(\n                {&quot;extraClasses&quot;: &quot;fa-rotate-0&quot;, &quot;icon&quot;: &quot;info-sign&quot;, &quot;iconColor&quot;: &quot;Red&quot;, &quot;markerColor&quot;: &quot;white&quot;, &quot;prefix&quot;: &quot;glyphicon&quot;}\n            );\n            marker_be676b368fc81aa59612ddafb6478b8d.setIcon(icon_030f105211d279b7ca7aa4e85fdb16e8);\n        \n    \n            var marker_709811071207fe7ca15daacdfa33d396 = L.marker(\n                [28.56230197, -80.57735648],\n                {}\n            ).addTo(marker_cluster_a220a301e9e889ec4a01a9abb6e682dd);\n        \n    \n            var icon_f3e050cb88d10180c6404676d1bb4e8e = L.AwesomeMarkers.icon(\n                {&quot;extraClasses&quot;: &quot;fa-rotate-0&quot;, &quot;icon&quot;: &quot;info-sign&quot;, &quot;iconColor&quot;: &quot;Red&quot;, &quot;markerColor&quot;: &quot;white&quot;, &quot;prefix&quot;: &quot;glyphicon&quot;}\n            );\n            marker_709811071207fe7ca15daacdfa33d396.setIcon(icon_f3e050cb88d10180c6404676d1bb4e8e);\n        \n    \n            var marker_3d394aa52c57159b386c248559808b87 = L.marker(\n                [28.56230197, -80.57735648],\n                {}\n            ).addTo(marker_cluster_a220a301e9e889ec4a01a9abb6e682dd);\n        \n    \n            var icon_119039d51b00ae55c0bcef91a5eceafc = L.AwesomeMarkers.icon(\n                {&quot;extraClasses&quot;: &quot;fa-rotate-0&quot;, &quot;icon&quot;: &quot;info-sign&quot;, &quot;iconColor&quot;: &quot;Red&quot;, &quot;markerColor&quot;: &quot;white&quot;, &quot;prefix&quot;: &quot;glyphicon&quot;}\n            );\n            marker_3d394aa52c57159b386c248559808b87.setIcon(icon_119039d51b00ae55c0bcef91a5eceafc);\n        \n    \n            var marker_14fe597c3cf88430c31803bf47387407 = L.marker(\n                [28.56230197, -80.57735648],\n                {}\n            ).addTo(marker_cluster_a220a301e9e889ec4a01a9abb6e682dd);\n        \n    \n            var icon_dd85bb2dfa7213318ea6a76c47eb9eb8 = L.AwesomeMarkers.icon(\n                {&quot;extraClasses&quot;: &quot;fa-rotate-0&quot;, &quot;icon&quot;: &quot;info-sign&quot;, &quot;iconColor&quot;: &quot;Red&quot;, &quot;markerColor&quot;: &quot;white&quot;, &quot;prefix&quot;: &quot;glyphicon&quot;}\n            );\n            marker_14fe597c3cf88430c31803bf47387407.setIcon(icon_dd85bb2dfa7213318ea6a76c47eb9eb8);\n        \n    \n            var marker_810980160d5d04a247a3cabb2f3b45df = L.marker(\n                [28.56230197, -80.57735648],\n                {}\n            ).addTo(marker_cluster_a220a301e9e889ec4a01a9abb6e682dd);\n        \n    \n            var icon_2aa68827e0e169f79bbfde3e2364ca92 = L.AwesomeMarkers.icon(\n                {&quot;extraClasses&quot;: &quot;fa-rotate-0&quot;, &quot;icon&quot;: &quot;info-sign&quot;, &quot;iconColor&quot;: &quot;Red&quot;, &quot;markerColor&quot;: &quot;white&quot;, &quot;prefix&quot;: &quot;glyphicon&quot;}\n            );\n            marker_810980160d5d04a247a3cabb2f3b45df.setIcon(icon_2aa68827e0e169f79bbfde3e2364ca92);\n        \n    \n            var marker_8c9c3a5e0f486447c79e4dfe25a1a8a6 = L.marker(\n                [28.56230197, -80.57735648],\n                {}\n            ).addTo(marker_cluster_a220a301e9e889ec4a01a9abb6e682dd);\n        \n    \n            var icon_9f9aac944ad690025cf40934b7d06af3 = L.AwesomeMarkers.icon(\n                {&quot;extraClasses&quot;: &quot;fa-rotate-0&quot;, &quot;icon&quot;: &quot;info-sign&quot;, &quot;iconColor&quot;: &quot;Red&quot;, &quot;markerColor&quot;: &quot;white&quot;, &quot;prefix&quot;: &quot;glyphicon&quot;}\n            );\n            marker_8c9c3a5e0f486447c79e4dfe25a1a8a6.setIcon(icon_9f9aac944ad690025cf40934b7d06af3);\n        \n    \n            var marker_2e9e2da14c39c45b125417d25c6fbeb9 = L.marker(\n                [28.56230197, -80.57735648],\n                {}\n            ).addTo(marker_cluster_a220a301e9e889ec4a01a9abb6e682dd);\n        \n    \n            var icon_dbc0c2c98f7075f9743ded933c2093fb = L.AwesomeMarkers.icon(\n                {&quot;extraClasses&quot;: &quot;fa-rotate-0&quot;, &quot;icon&quot;: &quot;info-sign&quot;, &quot;iconColor&quot;: &quot;Green&quot;, &quot;markerColor&quot;: &quot;white&quot;, &quot;prefix&quot;: &quot;glyphicon&quot;}\n            );\n            marker_2e9e2da14c39c45b125417d25c6fbeb9.setIcon(icon_dbc0c2c98f7075f9743ded933c2093fb);\n        \n    \n            var marker_f2bd7704a32a2ed535adc816fa7f6db7 = L.marker(\n                [28.56230197, -80.57735648],\n                {}\n            ).addTo(marker_cluster_a220a301e9e889ec4a01a9abb6e682dd);\n        \n    \n            var icon_4b85384d0a1496ee1a917841bd0d64dd = L.AwesomeMarkers.icon(\n                {&quot;extraClasses&quot;: &quot;fa-rotate-0&quot;, &quot;icon&quot;: &quot;info-sign&quot;, &quot;iconColor&quot;: &quot;Green&quot;, &quot;markerColor&quot;: &quot;white&quot;, &quot;prefix&quot;: &quot;glyphicon&quot;}\n            );\n            marker_f2bd7704a32a2ed535adc816fa7f6db7.setIcon(icon_4b85384d0a1496ee1a917841bd0d64dd);\n        \n    \n            var marker_b6b918399a4b6935355693dd1b6910a6 = L.marker(\n                [28.56230197, -80.57735648],\n                {}\n            ).addTo(marker_cluster_a220a301e9e889ec4a01a9abb6e682dd);\n        \n    \n            var icon_331d3455c6103d3a74b282da0991bee2 = L.AwesomeMarkers.icon(\n                {&quot;extraClasses&quot;: &quot;fa-rotate-0&quot;, &quot;icon&quot;: &quot;info-sign&quot;, &quot;iconColor&quot;: &quot;Red&quot;, &quot;markerColor&quot;: &quot;white&quot;, &quot;prefix&quot;: &quot;glyphicon&quot;}\n            );\n            marker_b6b918399a4b6935355693dd1b6910a6.setIcon(icon_331d3455c6103d3a74b282da0991bee2);\n        \n    \n            var marker_36825e26c979f67e1938ed8256ed0dfd = L.marker(\n                [28.56230197, -80.57735648],\n                {}\n            ).addTo(marker_cluster_a220a301e9e889ec4a01a9abb6e682dd);\n        \n    \n            var icon_bdf672438c0afffa558d0ea15cc2c54b = L.AwesomeMarkers.icon(\n                {&quot;extraClasses&quot;: &quot;fa-rotate-0&quot;, &quot;icon&quot;: &quot;info-sign&quot;, &quot;iconColor&quot;: &quot;Green&quot;, &quot;markerColor&quot;: &quot;white&quot;, &quot;prefix&quot;: &quot;glyphicon&quot;}\n            );\n            marker_36825e26c979f67e1938ed8256ed0dfd.setIcon(icon_bdf672438c0afffa558d0ea15cc2c54b);\n        \n    \n            var marker_e105e2918cf06a214b59007e2e844b1d = L.marker(\n                [28.56230197, -80.57735648],\n                {}\n            ).addTo(marker_cluster_a220a301e9e889ec4a01a9abb6e682dd);\n        \n    \n            var icon_e9eec621000d370e80495af44bfc20e9 = L.AwesomeMarkers.icon(\n                {&quot;extraClasses&quot;: &quot;fa-rotate-0&quot;, &quot;icon&quot;: &quot;info-sign&quot;, &quot;iconColor&quot;: &quot;Green&quot;, &quot;markerColor&quot;: &quot;white&quot;, &quot;prefix&quot;: &quot;glyphicon&quot;}\n            );\n            marker_e105e2918cf06a214b59007e2e844b1d.setIcon(icon_e9eec621000d370e80495af44bfc20e9);\n        \n    \n            var marker_be4791312a6b112f513af17d690d258a = L.marker(\n                [28.56230197, -80.57735648],\n                {}\n            ).addTo(marker_cluster_a220a301e9e889ec4a01a9abb6e682dd);\n        \n    \n            var icon_d58a9f2a4007789f195522e773a8912c = L.AwesomeMarkers.icon(\n                {&quot;extraClasses&quot;: &quot;fa-rotate-0&quot;, &quot;icon&quot;: &quot;info-sign&quot;, &quot;iconColor&quot;: &quot;Green&quot;, &quot;markerColor&quot;: &quot;white&quot;, &quot;prefix&quot;: &quot;glyphicon&quot;}\n            );\n            marker_be4791312a6b112f513af17d690d258a.setIcon(icon_d58a9f2a4007789f195522e773a8912c);\n        \n    \n            var marker_624029f49744adee8af42520a8e8a72d = L.marker(\n                [28.56230197, -80.57735648],\n                {}\n            ).addTo(marker_cluster_a220a301e9e889ec4a01a9abb6e682dd);\n        \n    \n            var icon_5c0221bafc76240e3075f6045a7662bb = L.AwesomeMarkers.icon(\n                {&quot;extraClasses&quot;: &quot;fa-rotate-0&quot;, &quot;icon&quot;: &quot;info-sign&quot;, &quot;iconColor&quot;: &quot;Red&quot;, &quot;markerColor&quot;: &quot;white&quot;, &quot;prefix&quot;: &quot;glyphicon&quot;}\n            );\n            marker_624029f49744adee8af42520a8e8a72d.setIcon(icon_5c0221bafc76240e3075f6045a7662bb);\n        \n    \n            var marker_102ac2108e754e13b0278e909f6f33da = L.marker(\n                [28.56230197, -80.57735648],\n                {}\n            ).addTo(marker_cluster_a220a301e9e889ec4a01a9abb6e682dd);\n        \n    \n            var icon_0d765656173d0bfbca89339c1de071c3 = L.AwesomeMarkers.icon(\n                {&quot;extraClasses&quot;: &quot;fa-rotate-0&quot;, &quot;icon&quot;: &quot;info-sign&quot;, &quot;iconColor&quot;: &quot;Green&quot;, &quot;markerColor&quot;: &quot;white&quot;, &quot;prefix&quot;: &quot;glyphicon&quot;}\n            );\n            marker_102ac2108e754e13b0278e909f6f33da.setIcon(icon_0d765656173d0bfbca89339c1de071c3);\n        \n    \n            var marker_64dca37b876b161aa9204e59f4596ab6 = L.marker(\n                [28.56230197, -80.57735648],\n                {}\n            ).addTo(marker_cluster_a220a301e9e889ec4a01a9abb6e682dd);\n        \n    \n            var icon_74adb87d9b92e4bef7f55dddcf00f2f1 = L.AwesomeMarkers.icon(\n                {&quot;extraClasses&quot;: &quot;fa-rotate-0&quot;, &quot;icon&quot;: &quot;info-sign&quot;, &quot;iconColor&quot;: &quot;Green&quot;, &quot;markerColor&quot;: &quot;white&quot;, &quot;prefix&quot;: &quot;glyphicon&quot;}\n            );\n            marker_64dca37b876b161aa9204e59f4596ab6.setIcon(icon_74adb87d9b92e4bef7f55dddcf00f2f1);\n        \n    \n            var marker_f4504590db5ce10dc2d5219bd828ccff = L.marker(\n                [34.63283416, -120.6107455],\n                {}\n            ).addTo(marker_cluster_a220a301e9e889ec4a01a9abb6e682dd);\n        \n    \n            var icon_756978a53d79b9ae5536808a4b5ae140 = L.AwesomeMarkers.icon(\n                {&quot;extraClasses&quot;: &quot;fa-rotate-0&quot;, &quot;icon&quot;: &quot;info-sign&quot;, &quot;iconColor&quot;: &quot;Red&quot;, &quot;markerColor&quot;: &quot;white&quot;, &quot;prefix&quot;: &quot;glyphicon&quot;}\n            );\n            marker_f4504590db5ce10dc2d5219bd828ccff.setIcon(icon_756978a53d79b9ae5536808a4b5ae140);\n        \n    \n            var marker_7162afd2276580297d741d473c4bb4f6 = L.marker(\n                [34.63283416, -120.6107455],\n                {}\n            ).addTo(marker_cluster_a220a301e9e889ec4a01a9abb6e682dd);\n        \n    \n            var icon_909adcb2c9c4d93c3cb2cb5eaad77b78 = L.AwesomeMarkers.icon(\n                {&quot;extraClasses&quot;: &quot;fa-rotate-0&quot;, &quot;icon&quot;: &quot;info-sign&quot;, &quot;iconColor&quot;: &quot;Red&quot;, &quot;markerColor&quot;: &quot;white&quot;, &quot;prefix&quot;: &quot;glyphicon&quot;}\n            );\n            marker_7162afd2276580297d741d473c4bb4f6.setIcon(icon_909adcb2c9c4d93c3cb2cb5eaad77b78);\n        \n    \n            var marker_9fd32b8445fe204f23b7824a7e8156ca = L.marker(\n                [34.63283416, -120.6107455],\n                {}\n            ).addTo(marker_cluster_a220a301e9e889ec4a01a9abb6e682dd);\n        \n    \n            var icon_c6318b69640c91360c384a357da08554 = L.AwesomeMarkers.icon(\n                {&quot;extraClasses&quot;: &quot;fa-rotate-0&quot;, &quot;icon&quot;: &quot;info-sign&quot;, &quot;iconColor&quot;: &quot;Green&quot;, &quot;markerColor&quot;: &quot;white&quot;, &quot;prefix&quot;: &quot;glyphicon&quot;}\n            );\n            marker_9fd32b8445fe204f23b7824a7e8156ca.setIcon(icon_c6318b69640c91360c384a357da08554);\n        \n    \n            var marker_cd7b4e8d46a13c791c3abbe0ea5965c1 = L.marker(\n                [34.63283416, -120.6107455],\n                {}\n            ).addTo(marker_cluster_a220a301e9e889ec4a01a9abb6e682dd);\n        \n    \n            var icon_df0bd516a68282bbf81fd94e71c2004c = L.AwesomeMarkers.icon(\n                {&quot;extraClasses&quot;: &quot;fa-rotate-0&quot;, &quot;icon&quot;: &quot;info-sign&quot;, &quot;iconColor&quot;: &quot;Green&quot;, &quot;markerColor&quot;: &quot;white&quot;, &quot;prefix&quot;: &quot;glyphicon&quot;}\n            );\n            marker_cd7b4e8d46a13c791c3abbe0ea5965c1.setIcon(icon_df0bd516a68282bbf81fd94e71c2004c);\n        \n    \n            var marker_3667aa2b484dc4ec2116ebfa8b93a8c4 = L.marker(\n                [34.63283416, -120.6107455],\n                {}\n            ).addTo(marker_cluster_a220a301e9e889ec4a01a9abb6e682dd);\n        \n    \n            var icon_97367277b41c7ac96ca8706dfc1aa3e3 = L.AwesomeMarkers.icon(\n                {&quot;extraClasses&quot;: &quot;fa-rotate-0&quot;, &quot;icon&quot;: &quot;info-sign&quot;, &quot;iconColor&quot;: &quot;Green&quot;, &quot;markerColor&quot;: &quot;white&quot;, &quot;prefix&quot;: &quot;glyphicon&quot;}\n            );\n            marker_3667aa2b484dc4ec2116ebfa8b93a8c4.setIcon(icon_97367277b41c7ac96ca8706dfc1aa3e3);\n        \n    \n            var marker_44d4e483dabf528b3ef35b9cd13fe618 = L.marker(\n                [34.63283416, -120.6107455],\n                {}\n            ).addTo(marker_cluster_a220a301e9e889ec4a01a9abb6e682dd);\n        \n    \n            var icon_2b35041256ebd7b6d6d0808e5d9acff7 = L.AwesomeMarkers.icon(\n                {&quot;extraClasses&quot;: &quot;fa-rotate-0&quot;, &quot;icon&quot;: &quot;info-sign&quot;, &quot;iconColor&quot;: &quot;Green&quot;, &quot;markerColor&quot;: &quot;white&quot;, &quot;prefix&quot;: &quot;glyphicon&quot;}\n            );\n            marker_44d4e483dabf528b3ef35b9cd13fe618.setIcon(icon_2b35041256ebd7b6d6d0808e5d9acff7);\n        \n    \n            var marker_be2ef0b621c00142772180bd42542af2 = L.marker(\n                [34.63283416, -120.6107455],\n                {}\n            ).addTo(marker_cluster_a220a301e9e889ec4a01a9abb6e682dd);\n        \n    \n            var icon_f2adbd8840e6fccae47dc8a611d1ee6c = L.AwesomeMarkers.icon(\n                {&quot;extraClasses&quot;: &quot;fa-rotate-0&quot;, &quot;icon&quot;: &quot;info-sign&quot;, &quot;iconColor&quot;: &quot;Red&quot;, &quot;markerColor&quot;: &quot;white&quot;, &quot;prefix&quot;: &quot;glyphicon&quot;}\n            );\n            marker_be2ef0b621c00142772180bd42542af2.setIcon(icon_f2adbd8840e6fccae47dc8a611d1ee6c);\n        \n    \n            var marker_082b19de4349a39ef65fb3733080b454 = L.marker(\n                [34.63283416, -120.6107455],\n                {}\n            ).addTo(marker_cluster_a220a301e9e889ec4a01a9abb6e682dd);\n        \n    \n            var icon_ba1165dd1a77bb4a66a96c3c7949dd08 = L.AwesomeMarkers.icon(\n                {&quot;extraClasses&quot;: &quot;fa-rotate-0&quot;, &quot;icon&quot;: &quot;info-sign&quot;, &quot;iconColor&quot;: &quot;Red&quot;, &quot;markerColor&quot;: &quot;white&quot;, &quot;prefix&quot;: &quot;glyphicon&quot;}\n            );\n            marker_082b19de4349a39ef65fb3733080b454.setIcon(icon_ba1165dd1a77bb4a66a96c3c7949dd08);\n        \n    \n            var marker_15e6e2794c9e18e162082024e67a354b = L.marker(\n                [34.63283416, -120.6107455],\n                {}\n            ).addTo(marker_cluster_a220a301e9e889ec4a01a9abb6e682dd);\n        \n    \n            var icon_fd02ac70416db2b22ce335d8512c52d5 = L.AwesomeMarkers.icon(\n                {&quot;extraClasses&quot;: &quot;fa-rotate-0&quot;, &quot;icon&quot;: &quot;info-sign&quot;, &quot;iconColor&quot;: &quot;Red&quot;, &quot;markerColor&quot;: &quot;white&quot;, &quot;prefix&quot;: &quot;glyphicon&quot;}\n            );\n            marker_15e6e2794c9e18e162082024e67a354b.setIcon(icon_fd02ac70416db2b22ce335d8512c52d5);\n        \n    \n            var marker_268a340f583091b2826f5850c1ddee4a = L.marker(\n                [34.63283416, -120.6107455],\n                {}\n            ).addTo(marker_cluster_a220a301e9e889ec4a01a9abb6e682dd);\n        \n    \n            var icon_5991724b2bc415a3e647b107553c4e8d = L.AwesomeMarkers.icon(\n                {&quot;extraClasses&quot;: &quot;fa-rotate-0&quot;, &quot;icon&quot;: &quot;info-sign&quot;, &quot;iconColor&quot;: &quot;Red&quot;, &quot;markerColor&quot;: &quot;white&quot;, &quot;prefix&quot;: &quot;glyphicon&quot;}\n            );\n            marker_268a340f583091b2826f5850c1ddee4a.setIcon(icon_5991724b2bc415a3e647b107553c4e8d);\n        \n    \n            var marker_7faed3bd977d3863c4387b76d5c48914 = L.marker(\n                [28.57325457, -80.64689529],\n                {}\n            ).addTo(marker_cluster_a220a301e9e889ec4a01a9abb6e682dd);\n        \n    \n            var icon_a94a5db00fdbe76168e9e20dc25d64d5 = L.AwesomeMarkers.icon(\n                {&quot;extraClasses&quot;: &quot;fa-rotate-0&quot;, &quot;icon&quot;: &quot;info-sign&quot;, &quot;iconColor&quot;: &quot;Green&quot;, &quot;markerColor&quot;: &quot;white&quot;, &quot;prefix&quot;: &quot;glyphicon&quot;}\n            );\n            marker_7faed3bd977d3863c4387b76d5c48914.setIcon(icon_a94a5db00fdbe76168e9e20dc25d64d5);\n        \n    \n            var marker_d8134a160db9a9a7ec821906ab4dcc8d = L.marker(\n                [28.57325457, -80.64689529],\n                {}\n            ).addTo(marker_cluster_a220a301e9e889ec4a01a9abb6e682dd);\n        \n    \n            var icon_93fc1ed249a790e3c367ef77f7437e2d = L.AwesomeMarkers.icon(\n                {&quot;extraClasses&quot;: &quot;fa-rotate-0&quot;, &quot;icon&quot;: &quot;info-sign&quot;, &quot;iconColor&quot;: &quot;Red&quot;, &quot;markerColor&quot;: &quot;white&quot;, &quot;prefix&quot;: &quot;glyphicon&quot;}\n            );\n            marker_d8134a160db9a9a7ec821906ab4dcc8d.setIcon(icon_93fc1ed249a790e3c367ef77f7437e2d);\n        \n    \n            var marker_e878dede3bd28da61bef165b4f7115c1 = L.marker(\n                [28.57325457, -80.64689529],\n                {}\n            ).addTo(marker_cluster_a220a301e9e889ec4a01a9abb6e682dd);\n        \n    \n            var icon_4f9e6a8a4fe729abc67a9094115797e0 = L.AwesomeMarkers.icon(\n                {&quot;extraClasses&quot;: &quot;fa-rotate-0&quot;, &quot;icon&quot;: &quot;info-sign&quot;, &quot;iconColor&quot;: &quot;Green&quot;, &quot;markerColor&quot;: &quot;white&quot;, &quot;prefix&quot;: &quot;glyphicon&quot;}\n            );\n            marker_e878dede3bd28da61bef165b4f7115c1.setIcon(icon_4f9e6a8a4fe729abc67a9094115797e0);\n        \n    \n            var marker_5c1c4a7bbe4f48088a11ea38f0e4df2c = L.marker(\n                [28.57325457, -80.64689529],\n                {}\n            ).addTo(marker_cluster_a220a301e9e889ec4a01a9abb6e682dd);\n        \n    \n            var icon_b3a6e11e9f61efa03682b0033db6a230 = L.AwesomeMarkers.icon(\n                {&quot;extraClasses&quot;: &quot;fa-rotate-0&quot;, &quot;icon&quot;: &quot;info-sign&quot;, &quot;iconColor&quot;: &quot;Green&quot;, &quot;markerColor&quot;: &quot;white&quot;, &quot;prefix&quot;: &quot;glyphicon&quot;}\n            );\n            marker_5c1c4a7bbe4f48088a11ea38f0e4df2c.setIcon(icon_b3a6e11e9f61efa03682b0033db6a230);\n        \n    \n            var marker_f4f415c4a4b840c6cb63c055a83e290a = L.marker(\n                [28.57325457, -80.64689529],\n                {}\n            ).addTo(marker_cluster_a220a301e9e889ec4a01a9abb6e682dd);\n        \n    \n            var icon_b1ec6dabbc5ff73a828d4a1dc67fbff8 = L.AwesomeMarkers.icon(\n                {&quot;extraClasses&quot;: &quot;fa-rotate-0&quot;, &quot;icon&quot;: &quot;info-sign&quot;, &quot;iconColor&quot;: &quot;Red&quot;, &quot;markerColor&quot;: &quot;white&quot;, &quot;prefix&quot;: &quot;glyphicon&quot;}\n            );\n            marker_f4f415c4a4b840c6cb63c055a83e290a.setIcon(icon_b1ec6dabbc5ff73a828d4a1dc67fbff8);\n        \n    \n            var marker_548d642c9ac72eaf6fa2461ce8965042 = L.marker(\n                [28.57325457, -80.64689529],\n                {}\n            ).addTo(marker_cluster_a220a301e9e889ec4a01a9abb6e682dd);\n        \n    \n            var icon_feb3a791b77335d26f75b41e55060066 = L.AwesomeMarkers.icon(\n                {&quot;extraClasses&quot;: &quot;fa-rotate-0&quot;, &quot;icon&quot;: &quot;info-sign&quot;, &quot;iconColor&quot;: &quot;Green&quot;, &quot;markerColor&quot;: &quot;white&quot;, &quot;prefix&quot;: &quot;glyphicon&quot;}\n            );\n            marker_548d642c9ac72eaf6fa2461ce8965042.setIcon(icon_feb3a791b77335d26f75b41e55060066);\n        \n    \n            var marker_20e78ac17463fafb5c1a7fdede21995a = L.marker(\n                [28.57325457, -80.64689529],\n                {}\n            ).addTo(marker_cluster_a220a301e9e889ec4a01a9abb6e682dd);\n        \n    \n            var icon_a45e8f9df9924fea34551cee62fec5b0 = L.AwesomeMarkers.icon(\n                {&quot;extraClasses&quot;: &quot;fa-rotate-0&quot;, &quot;icon&quot;: &quot;info-sign&quot;, &quot;iconColor&quot;: &quot;Green&quot;, &quot;markerColor&quot;: &quot;white&quot;, &quot;prefix&quot;: &quot;glyphicon&quot;}\n            );\n            marker_20e78ac17463fafb5c1a7fdede21995a.setIcon(icon_a45e8f9df9924fea34551cee62fec5b0);\n        \n    \n            var marker_03c4553957ada76ac577735f2cac7b01 = L.marker(\n                [28.57325457, -80.64689529],\n                {}\n            ).addTo(marker_cluster_a220a301e9e889ec4a01a9abb6e682dd);\n        \n    \n            var icon_c0d96c088d06b2845fa1c44c6bb631d0 = L.AwesomeMarkers.icon(\n                {&quot;extraClasses&quot;: &quot;fa-rotate-0&quot;, &quot;icon&quot;: &quot;info-sign&quot;, &quot;iconColor&quot;: &quot;Red&quot;, &quot;markerColor&quot;: &quot;white&quot;, &quot;prefix&quot;: &quot;glyphicon&quot;}\n            );\n            marker_03c4553957ada76ac577735f2cac7b01.setIcon(icon_c0d96c088d06b2845fa1c44c6bb631d0);\n        \n    \n            var marker_e765f59f984188ab8e7e7ed8230246c6 = L.marker(\n                [28.57325457, -80.64689529],\n                {}\n            ).addTo(marker_cluster_a220a301e9e889ec4a01a9abb6e682dd);\n        \n    \n            var icon_1be3496e36acf99c550d7e650d36c3bd = L.AwesomeMarkers.icon(\n                {&quot;extraClasses&quot;: &quot;fa-rotate-0&quot;, &quot;icon&quot;: &quot;info-sign&quot;, &quot;iconColor&quot;: &quot;Green&quot;, &quot;markerColor&quot;: &quot;white&quot;, &quot;prefix&quot;: &quot;glyphicon&quot;}\n            );\n            marker_e765f59f984188ab8e7e7ed8230246c6.setIcon(icon_1be3496e36acf99c550d7e650d36c3bd);\n        \n    \n            var marker_2260542d1090a9ddb65873a771020e28 = L.marker(\n                [28.57325457, -80.64689529],\n                {}\n            ).addTo(marker_cluster_a220a301e9e889ec4a01a9abb6e682dd);\n        \n    \n            var icon_2efa712bbb5bb14d4750c1d996703bd3 = L.AwesomeMarkers.icon(\n                {&quot;extraClasses&quot;: &quot;fa-rotate-0&quot;, &quot;icon&quot;: &quot;info-sign&quot;, &quot;iconColor&quot;: &quot;Green&quot;, &quot;markerColor&quot;: &quot;white&quot;, &quot;prefix&quot;: &quot;glyphicon&quot;}\n            );\n            marker_2260542d1090a9ddb65873a771020e28.setIcon(icon_2efa712bbb5bb14d4750c1d996703bd3);\n        \n    \n            var marker_261da503ec6608d1a713e7360b3cdd37 = L.marker(\n                [28.57325457, -80.64689529],\n                {}\n            ).addTo(marker_cluster_a220a301e9e889ec4a01a9abb6e682dd);\n        \n    \n            var icon_25f4f9d858b66950ff6228801148178e = L.AwesomeMarkers.icon(\n                {&quot;extraClasses&quot;: &quot;fa-rotate-0&quot;, &quot;icon&quot;: &quot;info-sign&quot;, &quot;iconColor&quot;: &quot;Green&quot;, &quot;markerColor&quot;: &quot;white&quot;, &quot;prefix&quot;: &quot;glyphicon&quot;}\n            );\n            marker_261da503ec6608d1a713e7360b3cdd37.setIcon(icon_25f4f9d858b66950ff6228801148178e);\n        \n    \n            var marker_ee3017531f26109300c265363ce2eeeb = L.marker(\n                [28.57325457, -80.64689529],\n                {}\n            ).addTo(marker_cluster_a220a301e9e889ec4a01a9abb6e682dd);\n        \n    \n            var icon_b70cf241c8a4a10c737802ddc4a025c3 = L.AwesomeMarkers.icon(\n                {&quot;extraClasses&quot;: &quot;fa-rotate-0&quot;, &quot;icon&quot;: &quot;info-sign&quot;, &quot;iconColor&quot;: &quot;Green&quot;, &quot;markerColor&quot;: &quot;white&quot;, &quot;prefix&quot;: &quot;glyphicon&quot;}\n            );\n            marker_ee3017531f26109300c265363ce2eeeb.setIcon(icon_b70cf241c8a4a10c737802ddc4a025c3);\n        \n    \n            var marker_55b19c6845f20bc9d7e7eb40dc6b5790 = L.marker(\n                [28.57325457, -80.64689529],\n                {}\n            ).addTo(marker_cluster_a220a301e9e889ec4a01a9abb6e682dd);\n        \n    \n            var icon_90d724602c9d86b12d28ade9888c9a68 = L.AwesomeMarkers.icon(\n                {&quot;extraClasses&quot;: &quot;fa-rotate-0&quot;, &quot;icon&quot;: &quot;info-sign&quot;, &quot;iconColor&quot;: &quot;Green&quot;, &quot;markerColor&quot;: &quot;white&quot;, &quot;prefix&quot;: &quot;glyphicon&quot;}\n            );\n            marker_55b19c6845f20bc9d7e7eb40dc6b5790.setIcon(icon_90d724602c9d86b12d28ade9888c9a68);\n        \n    \n            var marker_0b327add41beee2f936a85e0ca04a27e = L.marker(\n                [28.56319718, -80.57682003],\n                {}\n            ).addTo(marker_cluster_a220a301e9e889ec4a01a9abb6e682dd);\n        \n    \n            var icon_084a596872a6b7b0801bf08a370832ee = L.AwesomeMarkers.icon(\n                {&quot;extraClasses&quot;: &quot;fa-rotate-0&quot;, &quot;icon&quot;: &quot;info-sign&quot;, &quot;iconColor&quot;: &quot;Green&quot;, &quot;markerColor&quot;: &quot;white&quot;, &quot;prefix&quot;: &quot;glyphicon&quot;}\n            );\n            marker_0b327add41beee2f936a85e0ca04a27e.setIcon(icon_084a596872a6b7b0801bf08a370832ee);\n        \n    \n            var marker_9efdc9577253a6ace94f7bc8ffc50a41 = L.marker(\n                [28.56319718, -80.57682003],\n                {}\n            ).addTo(marker_cluster_a220a301e9e889ec4a01a9abb6e682dd);\n        \n    \n            var icon_d360bb0a4018ad9ec9447f065f8447a5 = L.AwesomeMarkers.icon(\n                {&quot;extraClasses&quot;: &quot;fa-rotate-0&quot;, &quot;icon&quot;: &quot;info-sign&quot;, &quot;iconColor&quot;: &quot;Green&quot;, &quot;markerColor&quot;: &quot;white&quot;, &quot;prefix&quot;: &quot;glyphicon&quot;}\n            );\n            marker_9efdc9577253a6ace94f7bc8ffc50a41.setIcon(icon_d360bb0a4018ad9ec9447f065f8447a5);\n        \n    \n            var marker_09e7c224c66248b796e26f25640f5679 = L.marker(\n                [28.56319718, -80.57682003],\n                {}\n            ).addTo(marker_cluster_a220a301e9e889ec4a01a9abb6e682dd);\n        \n    \n            var icon_0c55f916f41bcd2d2bf79021d75f2c98 = L.AwesomeMarkers.icon(\n                {&quot;extraClasses&quot;: &quot;fa-rotate-0&quot;, &quot;icon&quot;: &quot;info-sign&quot;, &quot;iconColor&quot;: &quot;Red&quot;, &quot;markerColor&quot;: &quot;white&quot;, &quot;prefix&quot;: &quot;glyphicon&quot;}\n            );\n            marker_09e7c224c66248b796e26f25640f5679.setIcon(icon_0c55f916f41bcd2d2bf79021d75f2c98);\n        \n    \n            var marker_1a7ab48715c5229dd87a7062d0380209 = L.marker(\n                [28.56319718, -80.57682003],\n                {}\n            ).addTo(marker_cluster_a220a301e9e889ec4a01a9abb6e682dd);\n        \n    \n            var icon_cf87ae5b758648c3aa859e8027d2c0d5 = L.AwesomeMarkers.icon(\n                {&quot;extraClasses&quot;: &quot;fa-rotate-0&quot;, &quot;icon&quot;: &quot;info-sign&quot;, &quot;iconColor&quot;: &quot;Red&quot;, &quot;markerColor&quot;: &quot;white&quot;, &quot;prefix&quot;: &quot;glyphicon&quot;}\n            );\n            marker_1a7ab48715c5229dd87a7062d0380209.setIcon(icon_cf87ae5b758648c3aa859e8027d2c0d5);\n        \n    \n            var marker_4426396348eb49eba74ec14eb5c59dbc = L.marker(\n                [28.56319718, -80.57682003],\n                {}\n            ).addTo(marker_cluster_a220a301e9e889ec4a01a9abb6e682dd);\n        \n    \n            var icon_4b41ab22f24148f21eb38d40fdd63c28 = L.AwesomeMarkers.icon(\n                {&quot;extraClasses&quot;: &quot;fa-rotate-0&quot;, &quot;icon&quot;: &quot;info-sign&quot;, &quot;iconColor&quot;: &quot;Red&quot;, &quot;markerColor&quot;: &quot;white&quot;, &quot;prefix&quot;: &quot;glyphicon&quot;}\n            );\n            marker_4426396348eb49eba74ec14eb5c59dbc.setIcon(icon_4b41ab22f24148f21eb38d40fdd63c28);\n        \n    \n            var marker_4ed273160810fb9edd9b939edb8b0a92 = L.marker(\n                [28.56319718, -80.57682003],\n                {}\n            ).addTo(marker_cluster_a220a301e9e889ec4a01a9abb6e682dd);\n        \n    \n            var icon_911093b60fbeeb5a703168f9412a891c = L.AwesomeMarkers.icon(\n                {&quot;extraClasses&quot;: &quot;fa-rotate-0&quot;, &quot;icon&quot;: &quot;info-sign&quot;, &quot;iconColor&quot;: &quot;Green&quot;, &quot;markerColor&quot;: &quot;white&quot;, &quot;prefix&quot;: &quot;glyphicon&quot;}\n            );\n            marker_4ed273160810fb9edd9b939edb8b0a92.setIcon(icon_911093b60fbeeb5a703168f9412a891c);\n        \n    \n            var marker_e4d66d57a2fb794a23b8c5dd8e237e0d = L.marker(\n                [28.56319718, -80.57682003],\n                {}\n            ).addTo(marker_cluster_a220a301e9e889ec4a01a9abb6e682dd);\n        \n    \n            var icon_818720af4efc8c6ee0afd7544dbbcf18 = L.AwesomeMarkers.icon(\n                {&quot;extraClasses&quot;: &quot;fa-rotate-0&quot;, &quot;icon&quot;: &quot;info-sign&quot;, &quot;iconColor&quot;: &quot;Red&quot;, &quot;markerColor&quot;: &quot;white&quot;, &quot;prefix&quot;: &quot;glyphicon&quot;}\n            );\n            marker_e4d66d57a2fb794a23b8c5dd8e237e0d.setIcon(icon_818720af4efc8c6ee0afd7544dbbcf18);\n        \n    \n            marker_cluster_a220a301e9e889ec4a01a9abb6e682dd.addTo(map_3c1492650ea6e65c422143f532533fc5);\n        \n&lt;/script&gt;\n&lt;/html&gt;\" style=\"position:absolute;width:100%;height:100%;left:0;top:0;border:none !important;\" allowfullscreen webkitallowfullscreen mozallowfullscreen></iframe></div></div>"
          },
          "metadata": {}
        }
      ],
      "execution_count": 34
    },
    {
      "cell_type": "markdown",
      "source": "Your updated map may look like the following screenshots:\n",
      "metadata": {}
    },
    {
      "cell_type": "markdown",
      "source": "<center>\n    <img src=\"https://cf-courses-data.s3.us.cloud-object-storage.appdomain.cloud/IBM-DS0321EN-SkillsNetwork/labs/module_3/images/launch_site_marker_cluster.png\">\n</center>\n",
      "metadata": {}
    },
    {
      "cell_type": "markdown",
      "source": "<center>\n    <img src=\"https://cf-courses-data.s3.us.cloud-object-storage.appdomain.cloud/IBM-DS0321EN-SkillsNetwork/labs/module_3/images/launch_site_marker_cluster_zoomed.png\">\n</center>\n",
      "metadata": {}
    },
    {
      "cell_type": "markdown",
      "source": "From the color-labeled markers in marker clusters, you should be able to easily identify which launch sites have relatively high success rates.\n",
      "metadata": {}
    },
    {
      "cell_type": "code",
      "source": "# TASK 3: Calculate the distances between a launch site to its proximities\n",
      "metadata": {},
      "outputs": [],
      "execution_count": null
    },
    {
      "cell_type": "markdown",
      "source": "Next, we need to explore and analyze the proximities of launch sites.\n",
      "metadata": {}
    },
    {
      "cell_type": "markdown",
      "source": "Let's first add a `MousePosition` on the map to get coordinate for a mouse over a point on the map. As such, while you are exploring the map, you can easily find the coordinates of any points of interests (such as railway)\n",
      "metadata": {}
    },
    {
      "cell_type": "code",
      "source": "# Add Mouse Position to get the coordinate (Lat, Long) for a mouse over on the map\nformatter = \"function(num) {return L.Util.formatNum(num, 5);};\"\nmouse_position = MousePosition(\n    position='topright',\n    separator=' Long: ',\n    empty_string='NaN',\n    lng_first=False,\n    num_digits=20,\n    prefix='Lat:',\n    lat_formatter=formatter,\n    lng_formatter=formatter,\n)\n\nsite_map.add_child(mouse_position)\nsite_map",
      "metadata": {
        "trusted": true
      },
      "outputs": [
        {
          "execution_count": 35,
          "output_type": "execute_result",
          "data": {
            "text/plain": "<folium.folium.Map at 0x6256188>",
            "text/html": "<div style=\"width:100%;\"><div style=\"position:relative;width:100%;height:0;padding-bottom:60%;\"><span style=\"color:#565656\">Make this Notebook Trusted to load map: File -> Trust Notebook</span><iframe srcdoc=\"&lt;!DOCTYPE html&gt;\n&lt;html&gt;\n&lt;head&gt;\n    \n    &lt;meta http-equiv=&quot;content-type&quot; content=&quot;text/html; charset=UTF-8&quot; /&gt;\n    \n        &lt;script&gt;\n            L_NO_TOUCH = false;\n            L_DISABLE_3D = false;\n        &lt;/script&gt;\n    \n    &lt;style&gt;html, body {width: 100%;height: 100%;margin: 0;padding: 0;}&lt;/style&gt;\n    &lt;style&gt;#map {position:absolute;top:0;bottom:0;right:0;left:0;}&lt;/style&gt;\n    &lt;script src=&quot;https://cdn.jsdelivr.net/npm/leaflet@1.9.3/dist/leaflet.js&quot;&gt;&lt;/script&gt;\n    &lt;script src=&quot;https://code.jquery.com/jquery-3.7.1.min.js&quot;&gt;&lt;/script&gt;\n    &lt;script src=&quot;https://cdn.jsdelivr.net/npm/bootstrap@5.2.2/dist/js/bootstrap.bundle.min.js&quot;&gt;&lt;/script&gt;\n    &lt;script src=&quot;https://cdnjs.cloudflare.com/ajax/libs/Leaflet.awesome-markers/2.0.2/leaflet.awesome-markers.js&quot;&gt;&lt;/script&gt;\n    &lt;link rel=&quot;stylesheet&quot; href=&quot;https://cdn.jsdelivr.net/npm/leaflet@1.9.3/dist/leaflet.css&quot;/&gt;\n    &lt;link rel=&quot;stylesheet&quot; href=&quot;https://cdn.jsdelivr.net/npm/bootstrap@5.2.2/dist/css/bootstrap.min.css&quot;/&gt;\n    &lt;link rel=&quot;stylesheet&quot; href=&quot;https://netdna.bootstrapcdn.com/bootstrap/3.0.0/css/bootstrap.min.css&quot;/&gt;\n    &lt;link rel=&quot;stylesheet&quot; href=&quot;https://cdn.jsdelivr.net/npm/@fortawesome/fontawesome-free@6.2.0/css/all.min.css&quot;/&gt;\n    &lt;link rel=&quot;stylesheet&quot; href=&quot;https://cdnjs.cloudflare.com/ajax/libs/Leaflet.awesome-markers/2.0.2/leaflet.awesome-markers.css&quot;/&gt;\n    &lt;link rel=&quot;stylesheet&quot; href=&quot;https://cdn.jsdelivr.net/gh/python-visualization/folium/folium/templates/leaflet.awesome.rotate.min.css&quot;/&gt;\n    \n            &lt;meta name=&quot;viewport&quot; content=&quot;width=device-width,\n                initial-scale=1.0, maximum-scale=1.0, user-scalable=no&quot; /&gt;\n            &lt;style&gt;\n                #map_3c1492650ea6e65c422143f532533fc5 {\n                    position: relative;\n                    width: 100.0%;\n                    height: 100.0%;\n                    left: 0.0%;\n                    top: 0.0%;\n                }\n                .leaflet-container { font-size: 1rem; }\n            &lt;/style&gt;\n        \n    &lt;script src=&quot;https://cdnjs.cloudflare.com/ajax/libs/leaflet.markercluster/1.1.0/leaflet.markercluster.js&quot;&gt;&lt;/script&gt;\n    &lt;link rel=&quot;stylesheet&quot; href=&quot;https://cdnjs.cloudflare.com/ajax/libs/leaflet.markercluster/1.1.0/MarkerCluster.css&quot;/&gt;\n    &lt;link rel=&quot;stylesheet&quot; href=&quot;https://cdnjs.cloudflare.com/ajax/libs/leaflet.markercluster/1.1.0/MarkerCluster.Default.css&quot;/&gt;\n    &lt;script src=&quot;https://cdn.jsdelivr.net/gh/ardhi/Leaflet.MousePosition/src/L.Control.MousePosition.min.js&quot;&gt;&lt;/script&gt;\n    &lt;link rel=&quot;stylesheet&quot; href=&quot;https://cdn.jsdelivr.net/gh/ardhi/Leaflet.MousePosition/src/L.Control.MousePosition.min.css&quot;/&gt;\n&lt;/head&gt;\n&lt;body&gt;\n    \n    \n            &lt;div class=&quot;folium-map&quot; id=&quot;map_3c1492650ea6e65c422143f532533fc5&quot; &gt;&lt;/div&gt;\n        \n&lt;/body&gt;\n&lt;script&gt;\n    \n    \n            var map_3c1492650ea6e65c422143f532533fc5 = L.map(\n                &quot;map_3c1492650ea6e65c422143f532533fc5&quot;,\n                {\n                    center: [34.63283416, -120.6107455],\n                    crs: L.CRS.EPSG3857,\n                    zoom: 5,\n                    zoomControl: true,\n                    preferCanvas: false,\n                }\n            );\n\n            \n\n        \n    \n            var tile_layer_8f9df0d5ccfb520ae15e2c05de350393 = L.tileLayer(\n                &quot;https://tile.openstreetmap.org/{z}/{x}/{y}.png&quot;,\n                {&quot;attribution&quot;: &quot;\\u0026copy; \\u003ca href=\\&quot;https://www.openstreetmap.org/copyright\\&quot;\\u003eOpenStreetMap\\u003c/a\\u003e contributors&quot;, &quot;detectRetina&quot;: false, &quot;maxNativeZoom&quot;: 19, &quot;maxZoom&quot;: 19, &quot;minZoom&quot;: 0, &quot;noWrap&quot;: false, &quot;opacity&quot;: 1, &quot;subdomains&quot;: &quot;abc&quot;, &quot;tms&quot;: false}\n            );\n        \n    \n            tile_layer_8f9df0d5ccfb520ae15e2c05de350393.addTo(map_3c1492650ea6e65c422143f532533fc5);\n        \n    \n            var marker_cluster_a220a301e9e889ec4a01a9abb6e682dd = L.markerClusterGroup(\n                {}\n            );\n        \n    \n            var marker_d9ced8910e88ce8fcece096a158e0a8b = L.marker(\n                [28.56230197, -80.57735648],\n                {}\n            ).addTo(marker_cluster_a220a301e9e889ec4a01a9abb6e682dd);\n        \n    \n            var icon_c5b51e8a34db7452294452a5f0291dff = L.AwesomeMarkers.icon(\n                {&quot;extraClasses&quot;: &quot;fa-rotate-0&quot;, &quot;icon&quot;: &quot;info-sign&quot;, &quot;iconColor&quot;: &quot;Red&quot;, &quot;markerColor&quot;: &quot;white&quot;, &quot;prefix&quot;: &quot;glyphicon&quot;}\n            );\n            marker_d9ced8910e88ce8fcece096a158e0a8b.setIcon(icon_c5b51e8a34db7452294452a5f0291dff);\n        \n    \n            var marker_49212c3b66c69777fe7be7e7c460c4ad = L.marker(\n                [28.56230197, -80.57735648],\n                {}\n            ).addTo(marker_cluster_a220a301e9e889ec4a01a9abb6e682dd);\n        \n    \n            var icon_1e15d43172dd1c812dd445585c1d03b5 = L.AwesomeMarkers.icon(\n                {&quot;extraClasses&quot;: &quot;fa-rotate-0&quot;, &quot;icon&quot;: &quot;info-sign&quot;, &quot;iconColor&quot;: &quot;Red&quot;, &quot;markerColor&quot;: &quot;white&quot;, &quot;prefix&quot;: &quot;glyphicon&quot;}\n            );\n            marker_49212c3b66c69777fe7be7e7c460c4ad.setIcon(icon_1e15d43172dd1c812dd445585c1d03b5);\n        \n    \n            var marker_96a8cb94bc3a673acc645cf1297cf10b = L.marker(\n                [28.56230197, -80.57735648],\n                {}\n            ).addTo(marker_cluster_a220a301e9e889ec4a01a9abb6e682dd);\n        \n    \n            var icon_f2bf2eb340c7beb1312090c8fbda443a = L.AwesomeMarkers.icon(\n                {&quot;extraClasses&quot;: &quot;fa-rotate-0&quot;, &quot;icon&quot;: &quot;info-sign&quot;, &quot;iconColor&quot;: &quot;Red&quot;, &quot;markerColor&quot;: &quot;white&quot;, &quot;prefix&quot;: &quot;glyphicon&quot;}\n            );\n            marker_96a8cb94bc3a673acc645cf1297cf10b.setIcon(icon_f2bf2eb340c7beb1312090c8fbda443a);\n        \n    \n            var marker_3eff260a9f8522088505b185bf1890cc = L.marker(\n                [28.56230197, -80.57735648],\n                {}\n            ).addTo(marker_cluster_a220a301e9e889ec4a01a9abb6e682dd);\n        \n    \n            var icon_2b9679ebbd39e0da986c13cb8512f989 = L.AwesomeMarkers.icon(\n                {&quot;extraClasses&quot;: &quot;fa-rotate-0&quot;, &quot;icon&quot;: &quot;info-sign&quot;, &quot;iconColor&quot;: &quot;Red&quot;, &quot;markerColor&quot;: &quot;white&quot;, &quot;prefix&quot;: &quot;glyphicon&quot;}\n            );\n            marker_3eff260a9f8522088505b185bf1890cc.setIcon(icon_2b9679ebbd39e0da986c13cb8512f989);\n        \n    \n            var marker_7fb35238cd392a90c80fc9bef5dca0d5 = L.marker(\n                [28.56230197, -80.57735648],\n                {}\n            ).addTo(marker_cluster_a220a301e9e889ec4a01a9abb6e682dd);\n        \n    \n            var icon_81c8fc52103db07effea249dc227226c = L.AwesomeMarkers.icon(\n                {&quot;extraClasses&quot;: &quot;fa-rotate-0&quot;, &quot;icon&quot;: &quot;info-sign&quot;, &quot;iconColor&quot;: &quot;Red&quot;, &quot;markerColor&quot;: &quot;white&quot;, &quot;prefix&quot;: &quot;glyphicon&quot;}\n            );\n            marker_7fb35238cd392a90c80fc9bef5dca0d5.setIcon(icon_81c8fc52103db07effea249dc227226c);\n        \n    \n            var marker_ee66ed41a49f18197d913b6eecad308b = L.marker(\n                [28.56230197, -80.57735648],\n                {}\n            ).addTo(marker_cluster_a220a301e9e889ec4a01a9abb6e682dd);\n        \n    \n            var icon_c97c28ee020d26c59e45abf476c9e97e = L.AwesomeMarkers.icon(\n                {&quot;extraClasses&quot;: &quot;fa-rotate-0&quot;, &quot;icon&quot;: &quot;info-sign&quot;, &quot;iconColor&quot;: &quot;Red&quot;, &quot;markerColor&quot;: &quot;white&quot;, &quot;prefix&quot;: &quot;glyphicon&quot;}\n            );\n            marker_ee66ed41a49f18197d913b6eecad308b.setIcon(icon_c97c28ee020d26c59e45abf476c9e97e);\n        \n    \n            var marker_71b0783ff3e0eccf5ecba61b2b59b24c = L.marker(\n                [28.56230197, -80.57735648],\n                {}\n            ).addTo(marker_cluster_a220a301e9e889ec4a01a9abb6e682dd);\n        \n    \n            var icon_d3cbea971e3d0fbae7ec4cac92cbe438 = L.AwesomeMarkers.icon(\n                {&quot;extraClasses&quot;: &quot;fa-rotate-0&quot;, &quot;icon&quot;: &quot;info-sign&quot;, &quot;iconColor&quot;: &quot;Red&quot;, &quot;markerColor&quot;: &quot;white&quot;, &quot;prefix&quot;: &quot;glyphicon&quot;}\n            );\n            marker_71b0783ff3e0eccf5ecba61b2b59b24c.setIcon(icon_d3cbea971e3d0fbae7ec4cac92cbe438);\n        \n    \n            var marker_eb98be3d6110d940b276dc31ef832710 = L.marker(\n                [28.56230197, -80.57735648],\n                {}\n            ).addTo(marker_cluster_a220a301e9e889ec4a01a9abb6e682dd);\n        \n    \n            var icon_00d83ba5af3f8aadb0638a3e067bfc69 = L.AwesomeMarkers.icon(\n                {&quot;extraClasses&quot;: &quot;fa-rotate-0&quot;, &quot;icon&quot;: &quot;info-sign&quot;, &quot;iconColor&quot;: &quot;Red&quot;, &quot;markerColor&quot;: &quot;white&quot;, &quot;prefix&quot;: &quot;glyphicon&quot;}\n            );\n            marker_eb98be3d6110d940b276dc31ef832710.setIcon(icon_00d83ba5af3f8aadb0638a3e067bfc69);\n        \n    \n            var marker_c982000c19e23fa7083eac36d1acb6d4 = L.marker(\n                [28.56230197, -80.57735648],\n                {}\n            ).addTo(marker_cluster_a220a301e9e889ec4a01a9abb6e682dd);\n        \n    \n            var icon_243735c8aa03190cbc45c645b6b52208 = L.AwesomeMarkers.icon(\n                {&quot;extraClasses&quot;: &quot;fa-rotate-0&quot;, &quot;icon&quot;: &quot;info-sign&quot;, &quot;iconColor&quot;: &quot;Red&quot;, &quot;markerColor&quot;: &quot;white&quot;, &quot;prefix&quot;: &quot;glyphicon&quot;}\n            );\n            marker_c982000c19e23fa7083eac36d1acb6d4.setIcon(icon_243735c8aa03190cbc45c645b6b52208);\n        \n    \n            var marker_09b6a0b4391ad130ea562cacc075d375 = L.marker(\n                [28.56230197, -80.57735648],\n                {}\n            ).addTo(marker_cluster_a220a301e9e889ec4a01a9abb6e682dd);\n        \n    \n            var icon_6896f556ea70ab2bec9cf60b32a9e8aa = L.AwesomeMarkers.icon(\n                {&quot;extraClasses&quot;: &quot;fa-rotate-0&quot;, &quot;icon&quot;: &quot;info-sign&quot;, &quot;iconColor&quot;: &quot;Red&quot;, &quot;markerColor&quot;: &quot;white&quot;, &quot;prefix&quot;: &quot;glyphicon&quot;}\n            );\n            marker_09b6a0b4391ad130ea562cacc075d375.setIcon(icon_6896f556ea70ab2bec9cf60b32a9e8aa);\n        \n    \n            var marker_5de7258b232e30ae1a05819b07516a69 = L.marker(\n                [28.56230197, -80.57735648],\n                {}\n            ).addTo(marker_cluster_a220a301e9e889ec4a01a9abb6e682dd);\n        \n    \n            var icon_d609e28cccc837f46be28eda30c6b7cc = L.AwesomeMarkers.icon(\n                {&quot;extraClasses&quot;: &quot;fa-rotate-0&quot;, &quot;icon&quot;: &quot;info-sign&quot;, &quot;iconColor&quot;: &quot;Red&quot;, &quot;markerColor&quot;: &quot;white&quot;, &quot;prefix&quot;: &quot;glyphicon&quot;}\n            );\n            marker_5de7258b232e30ae1a05819b07516a69.setIcon(icon_d609e28cccc837f46be28eda30c6b7cc);\n        \n    \n            var marker_be676b368fc81aa59612ddafb6478b8d = L.marker(\n                [28.56230197, -80.57735648],\n                {}\n            ).addTo(marker_cluster_a220a301e9e889ec4a01a9abb6e682dd);\n        \n    \n            var icon_030f105211d279b7ca7aa4e85fdb16e8 = L.AwesomeMarkers.icon(\n                {&quot;extraClasses&quot;: &quot;fa-rotate-0&quot;, &quot;icon&quot;: &quot;info-sign&quot;, &quot;iconColor&quot;: &quot;Red&quot;, &quot;markerColor&quot;: &quot;white&quot;, &quot;prefix&quot;: &quot;glyphicon&quot;}\n            );\n            marker_be676b368fc81aa59612ddafb6478b8d.setIcon(icon_030f105211d279b7ca7aa4e85fdb16e8);\n        \n    \n            var marker_709811071207fe7ca15daacdfa33d396 = L.marker(\n                [28.56230197, -80.57735648],\n                {}\n            ).addTo(marker_cluster_a220a301e9e889ec4a01a9abb6e682dd);\n        \n    \n            var icon_f3e050cb88d10180c6404676d1bb4e8e = L.AwesomeMarkers.icon(\n                {&quot;extraClasses&quot;: &quot;fa-rotate-0&quot;, &quot;icon&quot;: &quot;info-sign&quot;, &quot;iconColor&quot;: &quot;Red&quot;, &quot;markerColor&quot;: &quot;white&quot;, &quot;prefix&quot;: &quot;glyphicon&quot;}\n            );\n            marker_709811071207fe7ca15daacdfa33d396.setIcon(icon_f3e050cb88d10180c6404676d1bb4e8e);\n        \n    \n            var marker_3d394aa52c57159b386c248559808b87 = L.marker(\n                [28.56230197, -80.57735648],\n                {}\n            ).addTo(marker_cluster_a220a301e9e889ec4a01a9abb6e682dd);\n        \n    \n            var icon_119039d51b00ae55c0bcef91a5eceafc = L.AwesomeMarkers.icon(\n                {&quot;extraClasses&quot;: &quot;fa-rotate-0&quot;, &quot;icon&quot;: &quot;info-sign&quot;, &quot;iconColor&quot;: &quot;Red&quot;, &quot;markerColor&quot;: &quot;white&quot;, &quot;prefix&quot;: &quot;glyphicon&quot;}\n            );\n            marker_3d394aa52c57159b386c248559808b87.setIcon(icon_119039d51b00ae55c0bcef91a5eceafc);\n        \n    \n            var marker_14fe597c3cf88430c31803bf47387407 = L.marker(\n                [28.56230197, -80.57735648],\n                {}\n            ).addTo(marker_cluster_a220a301e9e889ec4a01a9abb6e682dd);\n        \n    \n            var icon_dd85bb2dfa7213318ea6a76c47eb9eb8 = L.AwesomeMarkers.icon(\n                {&quot;extraClasses&quot;: &quot;fa-rotate-0&quot;, &quot;icon&quot;: &quot;info-sign&quot;, &quot;iconColor&quot;: &quot;Red&quot;, &quot;markerColor&quot;: &quot;white&quot;, &quot;prefix&quot;: &quot;glyphicon&quot;}\n            );\n            marker_14fe597c3cf88430c31803bf47387407.setIcon(icon_dd85bb2dfa7213318ea6a76c47eb9eb8);\n        \n    \n            var marker_810980160d5d04a247a3cabb2f3b45df = L.marker(\n                [28.56230197, -80.57735648],\n                {}\n            ).addTo(marker_cluster_a220a301e9e889ec4a01a9abb6e682dd);\n        \n    \n            var icon_2aa68827e0e169f79bbfde3e2364ca92 = L.AwesomeMarkers.icon(\n                {&quot;extraClasses&quot;: &quot;fa-rotate-0&quot;, &quot;icon&quot;: &quot;info-sign&quot;, &quot;iconColor&quot;: &quot;Red&quot;, &quot;markerColor&quot;: &quot;white&quot;, &quot;prefix&quot;: &quot;glyphicon&quot;}\n            );\n            marker_810980160d5d04a247a3cabb2f3b45df.setIcon(icon_2aa68827e0e169f79bbfde3e2364ca92);\n        \n    \n            var marker_8c9c3a5e0f486447c79e4dfe25a1a8a6 = L.marker(\n                [28.56230197, -80.57735648],\n                {}\n            ).addTo(marker_cluster_a220a301e9e889ec4a01a9abb6e682dd);\n        \n    \n            var icon_9f9aac944ad690025cf40934b7d06af3 = L.AwesomeMarkers.icon(\n                {&quot;extraClasses&quot;: &quot;fa-rotate-0&quot;, &quot;icon&quot;: &quot;info-sign&quot;, &quot;iconColor&quot;: &quot;Red&quot;, &quot;markerColor&quot;: &quot;white&quot;, &quot;prefix&quot;: &quot;glyphicon&quot;}\n            );\n            marker_8c9c3a5e0f486447c79e4dfe25a1a8a6.setIcon(icon_9f9aac944ad690025cf40934b7d06af3);\n        \n    \n            var marker_2e9e2da14c39c45b125417d25c6fbeb9 = L.marker(\n                [28.56230197, -80.57735648],\n                {}\n            ).addTo(marker_cluster_a220a301e9e889ec4a01a9abb6e682dd);\n        \n    \n            var icon_dbc0c2c98f7075f9743ded933c2093fb = L.AwesomeMarkers.icon(\n                {&quot;extraClasses&quot;: &quot;fa-rotate-0&quot;, &quot;icon&quot;: &quot;info-sign&quot;, &quot;iconColor&quot;: &quot;Green&quot;, &quot;markerColor&quot;: &quot;white&quot;, &quot;prefix&quot;: &quot;glyphicon&quot;}\n            );\n            marker_2e9e2da14c39c45b125417d25c6fbeb9.setIcon(icon_dbc0c2c98f7075f9743ded933c2093fb);\n        \n    \n            var marker_f2bd7704a32a2ed535adc816fa7f6db7 = L.marker(\n                [28.56230197, -80.57735648],\n                {}\n            ).addTo(marker_cluster_a220a301e9e889ec4a01a9abb6e682dd);\n        \n    \n            var icon_4b85384d0a1496ee1a917841bd0d64dd = L.AwesomeMarkers.icon(\n                {&quot;extraClasses&quot;: &quot;fa-rotate-0&quot;, &quot;icon&quot;: &quot;info-sign&quot;, &quot;iconColor&quot;: &quot;Green&quot;, &quot;markerColor&quot;: &quot;white&quot;, &quot;prefix&quot;: &quot;glyphicon&quot;}\n            );\n            marker_f2bd7704a32a2ed535adc816fa7f6db7.setIcon(icon_4b85384d0a1496ee1a917841bd0d64dd);\n        \n    \n            var marker_b6b918399a4b6935355693dd1b6910a6 = L.marker(\n                [28.56230197, -80.57735648],\n                {}\n            ).addTo(marker_cluster_a220a301e9e889ec4a01a9abb6e682dd);\n        \n    \n            var icon_331d3455c6103d3a74b282da0991bee2 = L.AwesomeMarkers.icon(\n                {&quot;extraClasses&quot;: &quot;fa-rotate-0&quot;, &quot;icon&quot;: &quot;info-sign&quot;, &quot;iconColor&quot;: &quot;Red&quot;, &quot;markerColor&quot;: &quot;white&quot;, &quot;prefix&quot;: &quot;glyphicon&quot;}\n            );\n            marker_b6b918399a4b6935355693dd1b6910a6.setIcon(icon_331d3455c6103d3a74b282da0991bee2);\n        \n    \n            var marker_36825e26c979f67e1938ed8256ed0dfd = L.marker(\n                [28.56230197, -80.57735648],\n                {}\n            ).addTo(marker_cluster_a220a301e9e889ec4a01a9abb6e682dd);\n        \n    \n            var icon_bdf672438c0afffa558d0ea15cc2c54b = L.AwesomeMarkers.icon(\n                {&quot;extraClasses&quot;: &quot;fa-rotate-0&quot;, &quot;icon&quot;: &quot;info-sign&quot;, &quot;iconColor&quot;: &quot;Green&quot;, &quot;markerColor&quot;: &quot;white&quot;, &quot;prefix&quot;: &quot;glyphicon&quot;}\n            );\n            marker_36825e26c979f67e1938ed8256ed0dfd.setIcon(icon_bdf672438c0afffa558d0ea15cc2c54b);\n        \n    \n            var marker_e105e2918cf06a214b59007e2e844b1d = L.marker(\n                [28.56230197, -80.57735648],\n                {}\n            ).addTo(marker_cluster_a220a301e9e889ec4a01a9abb6e682dd);\n        \n    \n            var icon_e9eec621000d370e80495af44bfc20e9 = L.AwesomeMarkers.icon(\n                {&quot;extraClasses&quot;: &quot;fa-rotate-0&quot;, &quot;icon&quot;: &quot;info-sign&quot;, &quot;iconColor&quot;: &quot;Green&quot;, &quot;markerColor&quot;: &quot;white&quot;, &quot;prefix&quot;: &quot;glyphicon&quot;}\n            );\n            marker_e105e2918cf06a214b59007e2e844b1d.setIcon(icon_e9eec621000d370e80495af44bfc20e9);\n        \n    \n            var marker_be4791312a6b112f513af17d690d258a = L.marker(\n                [28.56230197, -80.57735648],\n                {}\n            ).addTo(marker_cluster_a220a301e9e889ec4a01a9abb6e682dd);\n        \n    \n            var icon_d58a9f2a4007789f195522e773a8912c = L.AwesomeMarkers.icon(\n                {&quot;extraClasses&quot;: &quot;fa-rotate-0&quot;, &quot;icon&quot;: &quot;info-sign&quot;, &quot;iconColor&quot;: &quot;Green&quot;, &quot;markerColor&quot;: &quot;white&quot;, &quot;prefix&quot;: &quot;glyphicon&quot;}\n            );\n            marker_be4791312a6b112f513af17d690d258a.setIcon(icon_d58a9f2a4007789f195522e773a8912c);\n        \n    \n            var marker_624029f49744adee8af42520a8e8a72d = L.marker(\n                [28.56230197, -80.57735648],\n                {}\n            ).addTo(marker_cluster_a220a301e9e889ec4a01a9abb6e682dd);\n        \n    \n            var icon_5c0221bafc76240e3075f6045a7662bb = L.AwesomeMarkers.icon(\n                {&quot;extraClasses&quot;: &quot;fa-rotate-0&quot;, &quot;icon&quot;: &quot;info-sign&quot;, &quot;iconColor&quot;: &quot;Red&quot;, &quot;markerColor&quot;: &quot;white&quot;, &quot;prefix&quot;: &quot;glyphicon&quot;}\n            );\n            marker_624029f49744adee8af42520a8e8a72d.setIcon(icon_5c0221bafc76240e3075f6045a7662bb);\n        \n    \n            var marker_102ac2108e754e13b0278e909f6f33da = L.marker(\n                [28.56230197, -80.57735648],\n                {}\n            ).addTo(marker_cluster_a220a301e9e889ec4a01a9abb6e682dd);\n        \n    \n            var icon_0d765656173d0bfbca89339c1de071c3 = L.AwesomeMarkers.icon(\n                {&quot;extraClasses&quot;: &quot;fa-rotate-0&quot;, &quot;icon&quot;: &quot;info-sign&quot;, &quot;iconColor&quot;: &quot;Green&quot;, &quot;markerColor&quot;: &quot;white&quot;, &quot;prefix&quot;: &quot;glyphicon&quot;}\n            );\n            marker_102ac2108e754e13b0278e909f6f33da.setIcon(icon_0d765656173d0bfbca89339c1de071c3);\n        \n    \n            var marker_64dca37b876b161aa9204e59f4596ab6 = L.marker(\n                [28.56230197, -80.57735648],\n                {}\n            ).addTo(marker_cluster_a220a301e9e889ec4a01a9abb6e682dd);\n        \n    \n            var icon_74adb87d9b92e4bef7f55dddcf00f2f1 = L.AwesomeMarkers.icon(\n                {&quot;extraClasses&quot;: &quot;fa-rotate-0&quot;, &quot;icon&quot;: &quot;info-sign&quot;, &quot;iconColor&quot;: &quot;Green&quot;, &quot;markerColor&quot;: &quot;white&quot;, &quot;prefix&quot;: &quot;glyphicon&quot;}\n            );\n            marker_64dca37b876b161aa9204e59f4596ab6.setIcon(icon_74adb87d9b92e4bef7f55dddcf00f2f1);\n        \n    \n            var marker_f4504590db5ce10dc2d5219bd828ccff = L.marker(\n                [34.63283416, -120.6107455],\n                {}\n            ).addTo(marker_cluster_a220a301e9e889ec4a01a9abb6e682dd);\n        \n    \n            var icon_756978a53d79b9ae5536808a4b5ae140 = L.AwesomeMarkers.icon(\n                {&quot;extraClasses&quot;: &quot;fa-rotate-0&quot;, &quot;icon&quot;: &quot;info-sign&quot;, &quot;iconColor&quot;: &quot;Red&quot;, &quot;markerColor&quot;: &quot;white&quot;, &quot;prefix&quot;: &quot;glyphicon&quot;}\n            );\n            marker_f4504590db5ce10dc2d5219bd828ccff.setIcon(icon_756978a53d79b9ae5536808a4b5ae140);\n        \n    \n            var marker_7162afd2276580297d741d473c4bb4f6 = L.marker(\n                [34.63283416, -120.6107455],\n                {}\n            ).addTo(marker_cluster_a220a301e9e889ec4a01a9abb6e682dd);\n        \n    \n            var icon_909adcb2c9c4d93c3cb2cb5eaad77b78 = L.AwesomeMarkers.icon(\n                {&quot;extraClasses&quot;: &quot;fa-rotate-0&quot;, &quot;icon&quot;: &quot;info-sign&quot;, &quot;iconColor&quot;: &quot;Red&quot;, &quot;markerColor&quot;: &quot;white&quot;, &quot;prefix&quot;: &quot;glyphicon&quot;}\n            );\n            marker_7162afd2276580297d741d473c4bb4f6.setIcon(icon_909adcb2c9c4d93c3cb2cb5eaad77b78);\n        \n    \n            var marker_9fd32b8445fe204f23b7824a7e8156ca = L.marker(\n                [34.63283416, -120.6107455],\n                {}\n            ).addTo(marker_cluster_a220a301e9e889ec4a01a9abb6e682dd);\n        \n    \n            var icon_c6318b69640c91360c384a357da08554 = L.AwesomeMarkers.icon(\n                {&quot;extraClasses&quot;: &quot;fa-rotate-0&quot;, &quot;icon&quot;: &quot;info-sign&quot;, &quot;iconColor&quot;: &quot;Green&quot;, &quot;markerColor&quot;: &quot;white&quot;, &quot;prefix&quot;: &quot;glyphicon&quot;}\n            );\n            marker_9fd32b8445fe204f23b7824a7e8156ca.setIcon(icon_c6318b69640c91360c384a357da08554);\n        \n    \n            var marker_cd7b4e8d46a13c791c3abbe0ea5965c1 = L.marker(\n                [34.63283416, -120.6107455],\n                {}\n            ).addTo(marker_cluster_a220a301e9e889ec4a01a9abb6e682dd);\n        \n    \n            var icon_df0bd516a68282bbf81fd94e71c2004c = L.AwesomeMarkers.icon(\n                {&quot;extraClasses&quot;: &quot;fa-rotate-0&quot;, &quot;icon&quot;: &quot;info-sign&quot;, &quot;iconColor&quot;: &quot;Green&quot;, &quot;markerColor&quot;: &quot;white&quot;, &quot;prefix&quot;: &quot;glyphicon&quot;}\n            );\n            marker_cd7b4e8d46a13c791c3abbe0ea5965c1.setIcon(icon_df0bd516a68282bbf81fd94e71c2004c);\n        \n    \n            var marker_3667aa2b484dc4ec2116ebfa8b93a8c4 = L.marker(\n                [34.63283416, -120.6107455],\n                {}\n            ).addTo(marker_cluster_a220a301e9e889ec4a01a9abb6e682dd);\n        \n    \n            var icon_97367277b41c7ac96ca8706dfc1aa3e3 = L.AwesomeMarkers.icon(\n                {&quot;extraClasses&quot;: &quot;fa-rotate-0&quot;, &quot;icon&quot;: &quot;info-sign&quot;, &quot;iconColor&quot;: &quot;Green&quot;, &quot;markerColor&quot;: &quot;white&quot;, &quot;prefix&quot;: &quot;glyphicon&quot;}\n            );\n            marker_3667aa2b484dc4ec2116ebfa8b93a8c4.setIcon(icon_97367277b41c7ac96ca8706dfc1aa3e3);\n        \n    \n            var marker_44d4e483dabf528b3ef35b9cd13fe618 = L.marker(\n                [34.63283416, -120.6107455],\n                {}\n            ).addTo(marker_cluster_a220a301e9e889ec4a01a9abb6e682dd);\n        \n    \n            var icon_2b35041256ebd7b6d6d0808e5d9acff7 = L.AwesomeMarkers.icon(\n                {&quot;extraClasses&quot;: &quot;fa-rotate-0&quot;, &quot;icon&quot;: &quot;info-sign&quot;, &quot;iconColor&quot;: &quot;Green&quot;, &quot;markerColor&quot;: &quot;white&quot;, &quot;prefix&quot;: &quot;glyphicon&quot;}\n            );\n            marker_44d4e483dabf528b3ef35b9cd13fe618.setIcon(icon_2b35041256ebd7b6d6d0808e5d9acff7);\n        \n    \n            var marker_be2ef0b621c00142772180bd42542af2 = L.marker(\n                [34.63283416, -120.6107455],\n                {}\n            ).addTo(marker_cluster_a220a301e9e889ec4a01a9abb6e682dd);\n        \n    \n            var icon_f2adbd8840e6fccae47dc8a611d1ee6c = L.AwesomeMarkers.icon(\n                {&quot;extraClasses&quot;: &quot;fa-rotate-0&quot;, &quot;icon&quot;: &quot;info-sign&quot;, &quot;iconColor&quot;: &quot;Red&quot;, &quot;markerColor&quot;: &quot;white&quot;, &quot;prefix&quot;: &quot;glyphicon&quot;}\n            );\n            marker_be2ef0b621c00142772180bd42542af2.setIcon(icon_f2adbd8840e6fccae47dc8a611d1ee6c);\n        \n    \n            var marker_082b19de4349a39ef65fb3733080b454 = L.marker(\n                [34.63283416, -120.6107455],\n                {}\n            ).addTo(marker_cluster_a220a301e9e889ec4a01a9abb6e682dd);\n        \n    \n            var icon_ba1165dd1a77bb4a66a96c3c7949dd08 = L.AwesomeMarkers.icon(\n                {&quot;extraClasses&quot;: &quot;fa-rotate-0&quot;, &quot;icon&quot;: &quot;info-sign&quot;, &quot;iconColor&quot;: &quot;Red&quot;, &quot;markerColor&quot;: &quot;white&quot;, &quot;prefix&quot;: &quot;glyphicon&quot;}\n            );\n            marker_082b19de4349a39ef65fb3733080b454.setIcon(icon_ba1165dd1a77bb4a66a96c3c7949dd08);\n        \n    \n            var marker_15e6e2794c9e18e162082024e67a354b = L.marker(\n                [34.63283416, -120.6107455],\n                {}\n            ).addTo(marker_cluster_a220a301e9e889ec4a01a9abb6e682dd);\n        \n    \n            var icon_fd02ac70416db2b22ce335d8512c52d5 = L.AwesomeMarkers.icon(\n                {&quot;extraClasses&quot;: &quot;fa-rotate-0&quot;, &quot;icon&quot;: &quot;info-sign&quot;, &quot;iconColor&quot;: &quot;Red&quot;, &quot;markerColor&quot;: &quot;white&quot;, &quot;prefix&quot;: &quot;glyphicon&quot;}\n            );\n            marker_15e6e2794c9e18e162082024e67a354b.setIcon(icon_fd02ac70416db2b22ce335d8512c52d5);\n        \n    \n            var marker_268a340f583091b2826f5850c1ddee4a = L.marker(\n                [34.63283416, -120.6107455],\n                {}\n            ).addTo(marker_cluster_a220a301e9e889ec4a01a9abb6e682dd);\n        \n    \n            var icon_5991724b2bc415a3e647b107553c4e8d = L.AwesomeMarkers.icon(\n                {&quot;extraClasses&quot;: &quot;fa-rotate-0&quot;, &quot;icon&quot;: &quot;info-sign&quot;, &quot;iconColor&quot;: &quot;Red&quot;, &quot;markerColor&quot;: &quot;white&quot;, &quot;prefix&quot;: &quot;glyphicon&quot;}\n            );\n            marker_268a340f583091b2826f5850c1ddee4a.setIcon(icon_5991724b2bc415a3e647b107553c4e8d);\n        \n    \n            var marker_7faed3bd977d3863c4387b76d5c48914 = L.marker(\n                [28.57325457, -80.64689529],\n                {}\n            ).addTo(marker_cluster_a220a301e9e889ec4a01a9abb6e682dd);\n        \n    \n            var icon_a94a5db00fdbe76168e9e20dc25d64d5 = L.AwesomeMarkers.icon(\n                {&quot;extraClasses&quot;: &quot;fa-rotate-0&quot;, &quot;icon&quot;: &quot;info-sign&quot;, &quot;iconColor&quot;: &quot;Green&quot;, &quot;markerColor&quot;: &quot;white&quot;, &quot;prefix&quot;: &quot;glyphicon&quot;}\n            );\n            marker_7faed3bd977d3863c4387b76d5c48914.setIcon(icon_a94a5db00fdbe76168e9e20dc25d64d5);\n        \n    \n            var marker_d8134a160db9a9a7ec821906ab4dcc8d = L.marker(\n                [28.57325457, -80.64689529],\n                {}\n            ).addTo(marker_cluster_a220a301e9e889ec4a01a9abb6e682dd);\n        \n    \n            var icon_93fc1ed249a790e3c367ef77f7437e2d = L.AwesomeMarkers.icon(\n                {&quot;extraClasses&quot;: &quot;fa-rotate-0&quot;, &quot;icon&quot;: &quot;info-sign&quot;, &quot;iconColor&quot;: &quot;Red&quot;, &quot;markerColor&quot;: &quot;white&quot;, &quot;prefix&quot;: &quot;glyphicon&quot;}\n            );\n            marker_d8134a160db9a9a7ec821906ab4dcc8d.setIcon(icon_93fc1ed249a790e3c367ef77f7437e2d);\n        \n    \n            var marker_e878dede3bd28da61bef165b4f7115c1 = L.marker(\n                [28.57325457, -80.64689529],\n                {}\n            ).addTo(marker_cluster_a220a301e9e889ec4a01a9abb6e682dd);\n        \n    \n            var icon_4f9e6a8a4fe729abc67a9094115797e0 = L.AwesomeMarkers.icon(\n                {&quot;extraClasses&quot;: &quot;fa-rotate-0&quot;, &quot;icon&quot;: &quot;info-sign&quot;, &quot;iconColor&quot;: &quot;Green&quot;, &quot;markerColor&quot;: &quot;white&quot;, &quot;prefix&quot;: &quot;glyphicon&quot;}\n            );\n            marker_e878dede3bd28da61bef165b4f7115c1.setIcon(icon_4f9e6a8a4fe729abc67a9094115797e0);\n        \n    \n            var marker_5c1c4a7bbe4f48088a11ea38f0e4df2c = L.marker(\n                [28.57325457, -80.64689529],\n                {}\n            ).addTo(marker_cluster_a220a301e9e889ec4a01a9abb6e682dd);\n        \n    \n            var icon_b3a6e11e9f61efa03682b0033db6a230 = L.AwesomeMarkers.icon(\n                {&quot;extraClasses&quot;: &quot;fa-rotate-0&quot;, &quot;icon&quot;: &quot;info-sign&quot;, &quot;iconColor&quot;: &quot;Green&quot;, &quot;markerColor&quot;: &quot;white&quot;, &quot;prefix&quot;: &quot;glyphicon&quot;}\n            );\n            marker_5c1c4a7bbe4f48088a11ea38f0e4df2c.setIcon(icon_b3a6e11e9f61efa03682b0033db6a230);\n        \n    \n            var marker_f4f415c4a4b840c6cb63c055a83e290a = L.marker(\n                [28.57325457, -80.64689529],\n                {}\n            ).addTo(marker_cluster_a220a301e9e889ec4a01a9abb6e682dd);\n        \n    \n            var icon_b1ec6dabbc5ff73a828d4a1dc67fbff8 = L.AwesomeMarkers.icon(\n                {&quot;extraClasses&quot;: &quot;fa-rotate-0&quot;, &quot;icon&quot;: &quot;info-sign&quot;, &quot;iconColor&quot;: &quot;Red&quot;, &quot;markerColor&quot;: &quot;white&quot;, &quot;prefix&quot;: &quot;glyphicon&quot;}\n            );\n            marker_f4f415c4a4b840c6cb63c055a83e290a.setIcon(icon_b1ec6dabbc5ff73a828d4a1dc67fbff8);\n        \n    \n            var marker_548d642c9ac72eaf6fa2461ce8965042 = L.marker(\n                [28.57325457, -80.64689529],\n                {}\n            ).addTo(marker_cluster_a220a301e9e889ec4a01a9abb6e682dd);\n        \n    \n            var icon_feb3a791b77335d26f75b41e55060066 = L.AwesomeMarkers.icon(\n                {&quot;extraClasses&quot;: &quot;fa-rotate-0&quot;, &quot;icon&quot;: &quot;info-sign&quot;, &quot;iconColor&quot;: &quot;Green&quot;, &quot;markerColor&quot;: &quot;white&quot;, &quot;prefix&quot;: &quot;glyphicon&quot;}\n            );\n            marker_548d642c9ac72eaf6fa2461ce8965042.setIcon(icon_feb3a791b77335d26f75b41e55060066);\n        \n    \n            var marker_20e78ac17463fafb5c1a7fdede21995a = L.marker(\n                [28.57325457, -80.64689529],\n                {}\n            ).addTo(marker_cluster_a220a301e9e889ec4a01a9abb6e682dd);\n        \n    \n            var icon_a45e8f9df9924fea34551cee62fec5b0 = L.AwesomeMarkers.icon(\n                {&quot;extraClasses&quot;: &quot;fa-rotate-0&quot;, &quot;icon&quot;: &quot;info-sign&quot;, &quot;iconColor&quot;: &quot;Green&quot;, &quot;markerColor&quot;: &quot;white&quot;, &quot;prefix&quot;: &quot;glyphicon&quot;}\n            );\n            marker_20e78ac17463fafb5c1a7fdede21995a.setIcon(icon_a45e8f9df9924fea34551cee62fec5b0);\n        \n    \n            var marker_03c4553957ada76ac577735f2cac7b01 = L.marker(\n                [28.57325457, -80.64689529],\n                {}\n            ).addTo(marker_cluster_a220a301e9e889ec4a01a9abb6e682dd);\n        \n    \n            var icon_c0d96c088d06b2845fa1c44c6bb631d0 = L.AwesomeMarkers.icon(\n                {&quot;extraClasses&quot;: &quot;fa-rotate-0&quot;, &quot;icon&quot;: &quot;info-sign&quot;, &quot;iconColor&quot;: &quot;Red&quot;, &quot;markerColor&quot;: &quot;white&quot;, &quot;prefix&quot;: &quot;glyphicon&quot;}\n            );\n            marker_03c4553957ada76ac577735f2cac7b01.setIcon(icon_c0d96c088d06b2845fa1c44c6bb631d0);\n        \n    \n            var marker_e765f59f984188ab8e7e7ed8230246c6 = L.marker(\n                [28.57325457, -80.64689529],\n                {}\n            ).addTo(marker_cluster_a220a301e9e889ec4a01a9abb6e682dd);\n        \n    \n            var icon_1be3496e36acf99c550d7e650d36c3bd = L.AwesomeMarkers.icon(\n                {&quot;extraClasses&quot;: &quot;fa-rotate-0&quot;, &quot;icon&quot;: &quot;info-sign&quot;, &quot;iconColor&quot;: &quot;Green&quot;, &quot;markerColor&quot;: &quot;white&quot;, &quot;prefix&quot;: &quot;glyphicon&quot;}\n            );\n            marker_e765f59f984188ab8e7e7ed8230246c6.setIcon(icon_1be3496e36acf99c550d7e650d36c3bd);\n        \n    \n            var marker_2260542d1090a9ddb65873a771020e28 = L.marker(\n                [28.57325457, -80.64689529],\n                {}\n            ).addTo(marker_cluster_a220a301e9e889ec4a01a9abb6e682dd);\n        \n    \n            var icon_2efa712bbb5bb14d4750c1d996703bd3 = L.AwesomeMarkers.icon(\n                {&quot;extraClasses&quot;: &quot;fa-rotate-0&quot;, &quot;icon&quot;: &quot;info-sign&quot;, &quot;iconColor&quot;: &quot;Green&quot;, &quot;markerColor&quot;: &quot;white&quot;, &quot;prefix&quot;: &quot;glyphicon&quot;}\n            );\n            marker_2260542d1090a9ddb65873a771020e28.setIcon(icon_2efa712bbb5bb14d4750c1d996703bd3);\n        \n    \n            var marker_261da503ec6608d1a713e7360b3cdd37 = L.marker(\n                [28.57325457, -80.64689529],\n                {}\n            ).addTo(marker_cluster_a220a301e9e889ec4a01a9abb6e682dd);\n        \n    \n            var icon_25f4f9d858b66950ff6228801148178e = L.AwesomeMarkers.icon(\n                {&quot;extraClasses&quot;: &quot;fa-rotate-0&quot;, &quot;icon&quot;: &quot;info-sign&quot;, &quot;iconColor&quot;: &quot;Green&quot;, &quot;markerColor&quot;: &quot;white&quot;, &quot;prefix&quot;: &quot;glyphicon&quot;}\n            );\n            marker_261da503ec6608d1a713e7360b3cdd37.setIcon(icon_25f4f9d858b66950ff6228801148178e);\n        \n    \n            var marker_ee3017531f26109300c265363ce2eeeb = L.marker(\n                [28.57325457, -80.64689529],\n                {}\n            ).addTo(marker_cluster_a220a301e9e889ec4a01a9abb6e682dd);\n        \n    \n            var icon_b70cf241c8a4a10c737802ddc4a025c3 = L.AwesomeMarkers.icon(\n                {&quot;extraClasses&quot;: &quot;fa-rotate-0&quot;, &quot;icon&quot;: &quot;info-sign&quot;, &quot;iconColor&quot;: &quot;Green&quot;, &quot;markerColor&quot;: &quot;white&quot;, &quot;prefix&quot;: &quot;glyphicon&quot;}\n            );\n            marker_ee3017531f26109300c265363ce2eeeb.setIcon(icon_b70cf241c8a4a10c737802ddc4a025c3);\n        \n    \n            var marker_55b19c6845f20bc9d7e7eb40dc6b5790 = L.marker(\n                [28.57325457, -80.64689529],\n                {}\n            ).addTo(marker_cluster_a220a301e9e889ec4a01a9abb6e682dd);\n        \n    \n            var icon_90d724602c9d86b12d28ade9888c9a68 = L.AwesomeMarkers.icon(\n                {&quot;extraClasses&quot;: &quot;fa-rotate-0&quot;, &quot;icon&quot;: &quot;info-sign&quot;, &quot;iconColor&quot;: &quot;Green&quot;, &quot;markerColor&quot;: &quot;white&quot;, &quot;prefix&quot;: &quot;glyphicon&quot;}\n            );\n            marker_55b19c6845f20bc9d7e7eb40dc6b5790.setIcon(icon_90d724602c9d86b12d28ade9888c9a68);\n        \n    \n            var marker_0b327add41beee2f936a85e0ca04a27e = L.marker(\n                [28.56319718, -80.57682003],\n                {}\n            ).addTo(marker_cluster_a220a301e9e889ec4a01a9abb6e682dd);\n        \n    \n            var icon_084a596872a6b7b0801bf08a370832ee = L.AwesomeMarkers.icon(\n                {&quot;extraClasses&quot;: &quot;fa-rotate-0&quot;, &quot;icon&quot;: &quot;info-sign&quot;, &quot;iconColor&quot;: &quot;Green&quot;, &quot;markerColor&quot;: &quot;white&quot;, &quot;prefix&quot;: &quot;glyphicon&quot;}\n            );\n            marker_0b327add41beee2f936a85e0ca04a27e.setIcon(icon_084a596872a6b7b0801bf08a370832ee);\n        \n    \n            var marker_9efdc9577253a6ace94f7bc8ffc50a41 = L.marker(\n                [28.56319718, -80.57682003],\n                {}\n            ).addTo(marker_cluster_a220a301e9e889ec4a01a9abb6e682dd);\n        \n    \n            var icon_d360bb0a4018ad9ec9447f065f8447a5 = L.AwesomeMarkers.icon(\n                {&quot;extraClasses&quot;: &quot;fa-rotate-0&quot;, &quot;icon&quot;: &quot;info-sign&quot;, &quot;iconColor&quot;: &quot;Green&quot;, &quot;markerColor&quot;: &quot;white&quot;, &quot;prefix&quot;: &quot;glyphicon&quot;}\n            );\n            marker_9efdc9577253a6ace94f7bc8ffc50a41.setIcon(icon_d360bb0a4018ad9ec9447f065f8447a5);\n        \n    \n            var marker_09e7c224c66248b796e26f25640f5679 = L.marker(\n                [28.56319718, -80.57682003],\n                {}\n            ).addTo(marker_cluster_a220a301e9e889ec4a01a9abb6e682dd);\n        \n    \n            var icon_0c55f916f41bcd2d2bf79021d75f2c98 = L.AwesomeMarkers.icon(\n                {&quot;extraClasses&quot;: &quot;fa-rotate-0&quot;, &quot;icon&quot;: &quot;info-sign&quot;, &quot;iconColor&quot;: &quot;Red&quot;, &quot;markerColor&quot;: &quot;white&quot;, &quot;prefix&quot;: &quot;glyphicon&quot;}\n            );\n            marker_09e7c224c66248b796e26f25640f5679.setIcon(icon_0c55f916f41bcd2d2bf79021d75f2c98);\n        \n    \n            var marker_1a7ab48715c5229dd87a7062d0380209 = L.marker(\n                [28.56319718, -80.57682003],\n                {}\n            ).addTo(marker_cluster_a220a301e9e889ec4a01a9abb6e682dd);\n        \n    \n            var icon_cf87ae5b758648c3aa859e8027d2c0d5 = L.AwesomeMarkers.icon(\n                {&quot;extraClasses&quot;: &quot;fa-rotate-0&quot;, &quot;icon&quot;: &quot;info-sign&quot;, &quot;iconColor&quot;: &quot;Red&quot;, &quot;markerColor&quot;: &quot;white&quot;, &quot;prefix&quot;: &quot;glyphicon&quot;}\n            );\n            marker_1a7ab48715c5229dd87a7062d0380209.setIcon(icon_cf87ae5b758648c3aa859e8027d2c0d5);\n        \n    \n            var marker_4426396348eb49eba74ec14eb5c59dbc = L.marker(\n                [28.56319718, -80.57682003],\n                {}\n            ).addTo(marker_cluster_a220a301e9e889ec4a01a9abb6e682dd);\n        \n    \n            var icon_4b41ab22f24148f21eb38d40fdd63c28 = L.AwesomeMarkers.icon(\n                {&quot;extraClasses&quot;: &quot;fa-rotate-0&quot;, &quot;icon&quot;: &quot;info-sign&quot;, &quot;iconColor&quot;: &quot;Red&quot;, &quot;markerColor&quot;: &quot;white&quot;, &quot;prefix&quot;: &quot;glyphicon&quot;}\n            );\n            marker_4426396348eb49eba74ec14eb5c59dbc.setIcon(icon_4b41ab22f24148f21eb38d40fdd63c28);\n        \n    \n            var marker_4ed273160810fb9edd9b939edb8b0a92 = L.marker(\n                [28.56319718, -80.57682003],\n                {}\n            ).addTo(marker_cluster_a220a301e9e889ec4a01a9abb6e682dd);\n        \n    \n            var icon_911093b60fbeeb5a703168f9412a891c = L.AwesomeMarkers.icon(\n                {&quot;extraClasses&quot;: &quot;fa-rotate-0&quot;, &quot;icon&quot;: &quot;info-sign&quot;, &quot;iconColor&quot;: &quot;Green&quot;, &quot;markerColor&quot;: &quot;white&quot;, &quot;prefix&quot;: &quot;glyphicon&quot;}\n            );\n            marker_4ed273160810fb9edd9b939edb8b0a92.setIcon(icon_911093b60fbeeb5a703168f9412a891c);\n        \n    \n            var marker_e4d66d57a2fb794a23b8c5dd8e237e0d = L.marker(\n                [28.56319718, -80.57682003],\n                {}\n            ).addTo(marker_cluster_a220a301e9e889ec4a01a9abb6e682dd);\n        \n    \n            var icon_818720af4efc8c6ee0afd7544dbbcf18 = L.AwesomeMarkers.icon(\n                {&quot;extraClasses&quot;: &quot;fa-rotate-0&quot;, &quot;icon&quot;: &quot;info-sign&quot;, &quot;iconColor&quot;: &quot;Red&quot;, &quot;markerColor&quot;: &quot;white&quot;, &quot;prefix&quot;: &quot;glyphicon&quot;}\n            );\n            marker_e4d66d57a2fb794a23b8c5dd8e237e0d.setIcon(icon_818720af4efc8c6ee0afd7544dbbcf18);\n        \n    \n            marker_cluster_a220a301e9e889ec4a01a9abb6e682dd.addTo(map_3c1492650ea6e65c422143f532533fc5);\n        \n    \n            tile_layer_8f9df0d5ccfb520ae15e2c05de350393.addTo(map_3c1492650ea6e65c422143f532533fc5);\n        \n    \n            marker_cluster_a220a301e9e889ec4a01a9abb6e682dd.addTo(map_3c1492650ea6e65c422143f532533fc5);\n        \n    \n            var mouse_position_6df85b5f121cba9a447f7a8cd54ba2b0 = new L.Control.MousePosition(\n                {&quot;emptyString&quot;: &quot;NaN&quot;, &quot;lngFirst&quot;: false, &quot;numDigits&quot;: 20, &quot;position&quot;: &quot;topright&quot;, &quot;prefix&quot;: &quot;Lat:&quot;, &quot;separator&quot;: &quot; Long: &quot;}\n            );\n            mouse_position_6df85b5f121cba9a447f7a8cd54ba2b0.options[&quot;latFormatter&quot;] =\n                function(num) {return L.Util.formatNum(num, 5);};;\n            mouse_position_6df85b5f121cba9a447f7a8cd54ba2b0.options[&quot;lngFormatter&quot;] =\n                function(num) {return L.Util.formatNum(num, 5);};;\n            map_3c1492650ea6e65c422143f532533fc5.addControl(mouse_position_6df85b5f121cba9a447f7a8cd54ba2b0);\n        \n&lt;/script&gt;\n&lt;/html&gt;\" style=\"position:absolute;width:100%;height:100%;left:0;top:0;border:none !important;\" allowfullscreen webkitallowfullscreen mozallowfullscreen></iframe></div></div>"
          },
          "metadata": {}
        }
      ],
      "execution_count": 35
    },
    {
      "cell_type": "markdown",
      "source": "Now zoom in to a launch site and explore its proximity to see if you can easily find any railway, highway, coastline, etc. Move your mouse to these points and mark down their coordinates (shown on the top-left) in order to the distance to the launch site.\n",
      "metadata": {}
    },
    {
      "cell_type": "markdown",
      "source": "Now zoom in to a launch site and explore its proximity to see if you can easily find any railway, highway, coastline, etc. Move your mouse to these points and mark down their coordinates (shown on the top-left) in order to the distance to the launch site.\n",
      "metadata": {}
    },
    {
      "cell_type": "code",
      "source": "from math import sin, cos, sqrt, atan2, radians\n\ndef calculate_distance(lat1, lon1, lat2, lon2):\n    # approximate radius of earth in km\n    R = 6373.0\n\n    lat1 = radians(lat1)\n    lon1 = radians(lon1)\n    lat2 = radians(lat2)\n    lon2 = radians(lon2)\n\n    dlon = lon2 - lon1\n    dlat = lat2 - lat1\n\n    a = sin(dlat / 2)**2 + cos(lat1) * cos(lat2) * sin(dlon / 2)**2\n    c = 2 * atan2(sqrt(a), sqrt(1 - a))\n\n    distance = R * c\n    return distance",
      "metadata": {
        "trusted": true
      },
      "outputs": [],
      "execution_count": 43
    },
    {
      "cell_type": "markdown",
      "source": "*TODO:* Mark down a point on the closest coastline using MousePosition and calculate the distance between the coastline point and the launch site.\n",
      "metadata": {}
    },
    {
      "cell_type": "code",
      "source": "# find coordinate of the closet coastline\n# e.g.,: Lat: 28.56367  Lon: -80.57163\n#distance_coastline = calculate_distance(launch_site_lat, launch_site_lon, coastline_lat, coastline_lon)",
      "metadata": {
        "trusted": true
      },
      "outputs": [],
      "execution_count": 39
    },
    {
      "cell_type": "code",
      "source": "# Create and add a folium.Marker on your selected closest coastline point on the map\n# Display the distance between coastline point and launch site using the icon property \n# for example\n# distance_marker = folium.Marker(\n#    coordinate,\n#    icon=DivIcon(\n#        icon_size=(20,20),\n#        icon_anchor=(0,0),\n#        html='<div style=\"font-size: 12; color:#d35400;\"><b>%s</b></div>' % \"{:10.2f} KM\".format(distance),\n#        )\n#    )",
      "metadata": {
        "trusted": true
      },
      "outputs": [],
      "execution_count": 40
    },
    {
      "cell_type": "markdown",
      "source": "*TODO:* Draw a `PolyLine` between a launch site to the selected coastline point\n",
      "metadata": {}
    },
    {
      "cell_type": "code",
      "source": "# Create a `folium.PolyLine` object using the coastline coordinates and launch site coordinate\n# lines=folium.PolyLine(locations=coordinates, weight=1)\nsite_map.add_child(lines)",
      "metadata": {
        "trusted": true
      },
      "outputs": [
        {
          "ename": "<class 'NameError'>",
          "evalue": "name 'lines' is not defined",
          "traceback": [
            "\u001b[0;31m---------------------------------------------------------------------------\u001b[0m",
            "\u001b[0;31mNameError\u001b[0m                                 Traceback (most recent call last)",
            "Cell \u001b[0;32mIn[41], line 3\u001b[0m\n\u001b[1;32m      1\u001b[0m \u001b[38;5;66;03m# Create a `folium.PolyLine` object using the coastline coordinates and launch site coordinate\u001b[39;00m\n\u001b[1;32m      2\u001b[0m \u001b[38;5;66;03m# lines=folium.PolyLine(locations=coordinates, weight=1)\u001b[39;00m\n\u001b[0;32m----> 3\u001b[0m site_map\u001b[38;5;241m.\u001b[39madd_child(\u001b[43mlines\u001b[49m)\n",
            "\u001b[0;31mNameError\u001b[0m: name 'lines' is not defined"
          ],
          "output_type": "error"
        }
      ],
      "execution_count": 41
    },
    {
      "cell_type": "markdown",
      "source": "Your updated map with distance line should look like the following screenshot:\n",
      "metadata": {}
    },
    {
      "cell_type": "markdown",
      "source": "<center>\n    <img src=\"https://cf-courses-data.s3.us.cloud-object-storage.appdomain.cloud/IBM-DS0321EN-SkillsNetwork/labs/module_3/images/launch_site_marker_distance.png\">\n</center>\n",
      "metadata": {}
    },
    {
      "cell_type": "markdown",
      "source": "*TODO:* Similarly, you can draw a line betwee a launch site to its closest city, railway, highway, etc. You need to use `MousePosition` to find the their coordinates on the map first\n",
      "metadata": {}
    },
    {
      "cell_type": "markdown",
      "source": "A railway map symbol may look like this:\n",
      "metadata": {}
    },
    {
      "cell_type": "markdown",
      "source": "<center>\n    <img src=\"https://cf-courses-data.s3.us.cloud-object-storage.appdomain.cloud/IBM-DS0321EN-SkillsNetwork/labs/module_3/images/railway.png\">\n</center>\n",
      "metadata": {}
    },
    {
      "cell_type": "markdown",
      "source": "A highway map symbol may look like this:\n",
      "metadata": {}
    },
    {
      "cell_type": "markdown",
      "source": "<center>\n    <img src=\"https://cf-courses-data.s3.us.cloud-object-storage.appdomain.cloud/IBM-DS0321EN-SkillsNetwork/labs/module_3/images/highway.png\">\n</center>\n",
      "metadata": {}
    },
    {
      "cell_type": "markdown",
      "source": "A city map symbol may look like this:\n",
      "metadata": {}
    },
    {
      "cell_type": "markdown",
      "source": "<center>\n    <img src=\"https://cf-courses-data.s3.us.cloud-object-storage.appdomain.cloud/IBM-DS0321EN-SkillsNetwork/labs/module_3/images/city.png\">\n</center>\n",
      "metadata": {}
    },
    {
      "cell_type": "code",
      "source": "# Create a marker with distance to a closest city, railway, highway, etc.\n# Draw a line between the marker to the launch site\n",
      "metadata": {},
      "outputs": [],
      "execution_count": null
    },
    {
      "cell_type": "code",
      "source": "",
      "metadata": {},
      "outputs": [],
      "execution_count": null
    },
    {
      "cell_type": "code",
      "source": "",
      "metadata": {},
      "outputs": [],
      "execution_count": null
    },
    {
      "cell_type": "markdown",
      "source": "After you plot distance lines to the proximities, you can answer the following questions easily:\n\n*   Are launch sites in close proximity to railways?\n*   Are launch sites in close proximity to highways?\n*   Are launch sites in close proximity to coastline?\n*   Do launch sites keep certain distance away from cities?\n\nAlso please try to explain your findings.\n",
      "metadata": {}
    },
    {
      "cell_type": "markdown",
      "source": "# Next Steps:\n\nNow you have discovered many interesting insights related to the launch sites' location using folium, in a very interactive way. Next, you will need to build a dashboard using Ploty Dash on detailed launch records.\n",
      "metadata": {}
    },
    {
      "cell_type": "markdown",
      "source": "## Authors\n",
      "metadata": {}
    },
    {
      "cell_type": "markdown",
      "source": "[Pratiksha Verma](https://www.linkedin.com/in/pratiksha-verma-6487561b1/?utm_medium=Exinfluencer&utm_source=Exinfluencer&utm_content=000026UJ&utm_term=10006555&utm_id=NA-SkillsNetwork-Channel-SkillsNetworkCoursesIBMDS0321ENSkillsNetwork865-2022-01-01)\n",
      "metadata": {}
    },
    {
      "cell_type": "markdown",
      "source": "## Change Log\n",
      "metadata": {}
    },
    {
      "cell_type": "markdown",
      "source": "| Date (YYYY-MM-DD) | Version | Changed By      | Change Description      |\n| ----------------- | ------- | -------------   | ----------------------- |\n| 2022-11-09        | 1.0     | Pratiksha Verma | Converted initial version to Jupyterlite|\n",
      "metadata": {}
    },
    {
      "cell_type": "markdown",
      "source": "### <h3 align=\"center\"> IBM Corporation 2022. All rights reserved. <h3/>\n",
      "metadata": {}
    }
  ]
}